{
 "cells": [
  {
   "cell_type": "markdown",
   "metadata": {},
   "source": [
    "Formação Cientista de Dados - Fernando Amaral e Jones Granatyr\n",
    "Limpeza e tratamento de Dados"
   ]
  },
{
 "cells": [
  {
   "cell_type": "markdown",
   "metadata": {},
   "source": [
    "Aluno: Wesley Bispo de Brito\n",
   ]
  },
  {
   "cell_type": "code",
   "execution_count": 5,
   "metadata": {},
   "outputs": [],
   "source": [
    "import pandas as pd\n",
    "import seaborn as srn\n",
    "import statistics  as sts"
   ]
  },
  {
   "cell_type": "code",
   "execution_count": 6,
   "metadata": {},
   "outputs": [
    {
     "data": {
      "text/html": [
       "<div>\n",
       "<style scoped>\n",
       "    .dataframe tbody tr th:only-of-type {\n",
       "        vertical-align: middle;\n",
       "    }\n",
       "\n",
       "    .dataframe tbody tr th {\n",
       "        vertical-align: top;\n",
       "    }\n",
       "\n",
       "    .dataframe thead th {\n",
       "        text-align: right;\n",
       "    }\n",
       "</style>\n",
       "<table border=\"1\" class=\"dataframe\">\n",
       "  <thead>\n",
       "    <tr style=\"text-align: right;\">\n",
       "      <th></th>\n",
       "      <th>X0</th>\n",
       "      <th>X1</th>\n",
       "      <th>X2</th>\n",
       "      <th>X3</th>\n",
       "      <th>X4</th>\n",
       "      <th>X4.1</th>\n",
       "      <th>X6</th>\n",
       "      <th>X7</th>\n",
       "      <th>X8</th>\n",
       "      <th>X9</th>\n",
       "      <th>X10</th>\n",
       "      <th>X11</th>\n",
       "    </tr>\n",
       "  </thead>\n",
       "  <tbody>\n",
       "    <tr>\n",
       "      <th>0</th>\n",
       "      <td>1</td>\n",
       "      <td>619</td>\n",
       "      <td>RS</td>\n",
       "      <td>Feminino</td>\n",
       "      <td>42</td>\n",
       "      <td>2</td>\n",
       "      <td>0</td>\n",
       "      <td>1</td>\n",
       "      <td>1</td>\n",
       "      <td>1</td>\n",
       "      <td>10134888.0</td>\n",
       "      <td>1</td>\n",
       "    </tr>\n",
       "    <tr>\n",
       "      <th>1</th>\n",
       "      <td>2</td>\n",
       "      <td>608</td>\n",
       "      <td>SC</td>\n",
       "      <td>Feminino</td>\n",
       "      <td>41</td>\n",
       "      <td>1</td>\n",
       "      <td>8380786</td>\n",
       "      <td>1</td>\n",
       "      <td>0</td>\n",
       "      <td>1</td>\n",
       "      <td>11254258.0</td>\n",
       "      <td>0</td>\n",
       "    </tr>\n",
       "    <tr>\n",
       "      <th>2</th>\n",
       "      <td>3</td>\n",
       "      <td>502</td>\n",
       "      <td>RS</td>\n",
       "      <td>Feminino</td>\n",
       "      <td>42</td>\n",
       "      <td>8</td>\n",
       "      <td>1596608</td>\n",
       "      <td>3</td>\n",
       "      <td>1</td>\n",
       "      <td>0</td>\n",
       "      <td>11393157.0</td>\n",
       "      <td>1</td>\n",
       "    </tr>\n",
       "    <tr>\n",
       "      <th>3</th>\n",
       "      <td>4</td>\n",
       "      <td>699</td>\n",
       "      <td>RS</td>\n",
       "      <td>Feminino</td>\n",
       "      <td>39</td>\n",
       "      <td>1</td>\n",
       "      <td>0</td>\n",
       "      <td>2</td>\n",
       "      <td>0</td>\n",
       "      <td>0</td>\n",
       "      <td>9382663.0</td>\n",
       "      <td>0</td>\n",
       "    </tr>\n",
       "    <tr>\n",
       "      <th>4</th>\n",
       "      <td>5</td>\n",
       "      <td>850</td>\n",
       "      <td>SC</td>\n",
       "      <td>Feminino</td>\n",
       "      <td>43</td>\n",
       "      <td>2</td>\n",
       "      <td>12551082</td>\n",
       "      <td>1</td>\n",
       "      <td>1</td>\n",
       "      <td>1</td>\n",
       "      <td>790841.0</td>\n",
       "      <td>0</td>\n",
       "    </tr>\n",
       "  </tbody>\n",
       "</table>\n",
       "</div>"
      ],
      "text/plain": [
       "   X0   X1  X2        X3  X4  X4.1        X6  X7  X8  X9         X10  X11\n",
       "0   1  619  RS  Feminino  42     2         0   1   1   1  10134888.0    1\n",
       "1   2  608  SC  Feminino  41     1   8380786   1   0   1  11254258.0    0\n",
       "2   3  502  RS  Feminino  42     8   1596608   3   1   0  11393157.0    1\n",
       "3   4  699  RS  Feminino  39     1         0   2   0   0   9382663.0    0\n",
       "4   5  850  SC  Feminino  43     2  12551082   1   1   1    790841.0    0"
      ]
     },
     "execution_count": 6,
     "metadata": {},
     "output_type": "execute_result"
    }
   ],
   "source": [
    "#importar dados\n",
    "dataset = pd.read_csv(\"Churn.csv\", sep=\";\")\n",
    "#visulizar\n",
    "dataset.head()"
   ]
  },
  {
   "cell_type": "code",
   "execution_count": 7,
   "metadata": {},
   "outputs": [
    {
     "data": {
      "text/plain": [
       "(999, 12)"
      ]
     },
     "execution_count": 7,
     "metadata": {},
     "output_type": "execute_result"
    }
   ],
   "source": [
    "#tamanho\n",
    "dataset.shape"
   ]
  },
  {
   "cell_type": "code",
   "execution_count": 8,
   "metadata": {},
   "outputs": [],
   "source": [
    "#primeiro problema é dar nomes as colunas\n",
    "dataset.columns = [\"Id\",\"Score\",\"Estado\",\"Genero\",\"Idade\",\"Patrimonio\",\"Saldo\",\"Produtos\",\"TemCartCredito\",\n",
    "                    \"Ativo\",\"Salario\",\"Saiu\"]"
   ]
  },
  {
   "cell_type": "code",
   "execution_count": 9,
   "metadata": {},
   "outputs": [
    {
     "data": {
      "text/html": [
       "<div>\n",
       "<style scoped>\n",
       "    .dataframe tbody tr th:only-of-type {\n",
       "        vertical-align: middle;\n",
       "    }\n",
       "\n",
       "    .dataframe tbody tr th {\n",
       "        vertical-align: top;\n",
       "    }\n",
       "\n",
       "    .dataframe thead th {\n",
       "        text-align: right;\n",
       "    }\n",
       "</style>\n",
       "<table border=\"1\" class=\"dataframe\">\n",
       "  <thead>\n",
       "    <tr style=\"text-align: right;\">\n",
       "      <th></th>\n",
       "      <th>Id</th>\n",
       "      <th>Score</th>\n",
       "      <th>Estado</th>\n",
       "      <th>Genero</th>\n",
       "      <th>Idade</th>\n",
       "      <th>Patrimonio</th>\n",
       "      <th>Saldo</th>\n",
       "      <th>Produtos</th>\n",
       "      <th>TemCartCredito</th>\n",
       "      <th>Ativo</th>\n",
       "      <th>Salario</th>\n",
       "      <th>Saiu</th>\n",
       "    </tr>\n",
       "  </thead>\n",
       "  <tbody>\n",
       "    <tr>\n",
       "      <th>0</th>\n",
       "      <td>1</td>\n",
       "      <td>619</td>\n",
       "      <td>RS</td>\n",
       "      <td>Feminino</td>\n",
       "      <td>42</td>\n",
       "      <td>2</td>\n",
       "      <td>0</td>\n",
       "      <td>1</td>\n",
       "      <td>1</td>\n",
       "      <td>1</td>\n",
       "      <td>10134888.0</td>\n",
       "      <td>1</td>\n",
       "    </tr>\n",
       "    <tr>\n",
       "      <th>1</th>\n",
       "      <td>2</td>\n",
       "      <td>608</td>\n",
       "      <td>SC</td>\n",
       "      <td>Feminino</td>\n",
       "      <td>41</td>\n",
       "      <td>1</td>\n",
       "      <td>8380786</td>\n",
       "      <td>1</td>\n",
       "      <td>0</td>\n",
       "      <td>1</td>\n",
       "      <td>11254258.0</td>\n",
       "      <td>0</td>\n",
       "    </tr>\n",
       "    <tr>\n",
       "      <th>2</th>\n",
       "      <td>3</td>\n",
       "      <td>502</td>\n",
       "      <td>RS</td>\n",
       "      <td>Feminino</td>\n",
       "      <td>42</td>\n",
       "      <td>8</td>\n",
       "      <td>1596608</td>\n",
       "      <td>3</td>\n",
       "      <td>1</td>\n",
       "      <td>0</td>\n",
       "      <td>11393157.0</td>\n",
       "      <td>1</td>\n",
       "    </tr>\n",
       "    <tr>\n",
       "      <th>3</th>\n",
       "      <td>4</td>\n",
       "      <td>699</td>\n",
       "      <td>RS</td>\n",
       "      <td>Feminino</td>\n",
       "      <td>39</td>\n",
       "      <td>1</td>\n",
       "      <td>0</td>\n",
       "      <td>2</td>\n",
       "      <td>0</td>\n",
       "      <td>0</td>\n",
       "      <td>9382663.0</td>\n",
       "      <td>0</td>\n",
       "    </tr>\n",
       "    <tr>\n",
       "      <th>4</th>\n",
       "      <td>5</td>\n",
       "      <td>850</td>\n",
       "      <td>SC</td>\n",
       "      <td>Feminino</td>\n",
       "      <td>43</td>\n",
       "      <td>2</td>\n",
       "      <td>12551082</td>\n",
       "      <td>1</td>\n",
       "      <td>1</td>\n",
       "      <td>1</td>\n",
       "      <td>790841.0</td>\n",
       "      <td>0</td>\n",
       "    </tr>\n",
       "  </tbody>\n",
       "</table>\n",
       "</div>"
      ],
      "text/plain": [
       "   Id  Score Estado    Genero  Idade  Patrimonio     Saldo  Produtos  \\\n",
       "0   1    619     RS  Feminino     42           2         0         1   \n",
       "1   2    608     SC  Feminino     41           1   8380786         1   \n",
       "2   3    502     RS  Feminino     42           8   1596608         3   \n",
       "3   4    699     RS  Feminino     39           1         0         2   \n",
       "4   5    850     SC  Feminino     43           2  12551082         1   \n",
       "\n",
       "   TemCartCredito  Ativo     Salario  Saiu  \n",
       "0               1      1  10134888.0     1  \n",
       "1               0      1  11254258.0     0  \n",
       "2               1      0  11393157.0     1  \n",
       "3               0      0   9382663.0     0  \n",
       "4               1      1    790841.0     0  "
      ]
     },
     "execution_count": 9,
     "metadata": {},
     "output_type": "execute_result"
    }
   ],
   "source": [
    "#visulizar\n",
    "dataset.head()"
   ]
  },
  {
   "cell_type": "code",
   "execution_count": 10,
   "metadata": {},
   "outputs": [
    {
     "data": {
      "text/plain": [
       "Estado\n",
       "PR    257\n",
       "RP      1\n",
       "RS    478\n",
       "SC    258\n",
       "SP      4\n",
       "TD      1\n",
       "dtype: int64"
      ]
     },
     "execution_count": 10,
     "metadata": {},
     "output_type": "execute_result"
    }
   ],
   "source": [
    "#explorar dados categoricos\n",
    "#estado\n",
    "agrupado = dataset.groupby(['Estado']).size()\n",
    "agrupado"
   ]
  },
  {
   "cell_type": "raw",
   "metadata": {},
   "source": [
    "Estado com RP, será substituido por PR.\n",
    "Estado com TD, será substituido por RS.\n",
    "Estado de SP será retirado da análise."
   ]
  },
  {
   "cell_type": "code",
   "execution_count": 11,
   "metadata": {},
   "outputs": [
    {
     "data": {
      "text/plain": [
       "<Axes: xlabel='Estado'>"
      ]
     },
     "execution_count": 11,
     "metadata": {},
     "output_type": "execute_result"
    },
    {
     "data": {
      "image/png": "iVBORw0KGgoAAAANSUhEUgAAAigAAAG6CAYAAAAiS71QAAAAOXRFWHRTb2Z0d2FyZQBNYXRwbG90bGliIHZlcnNpb24zLjguMCwgaHR0cHM6Ly9tYXRwbG90bGliLm9yZy81sbWrAAAACXBIWXMAAA9hAAAPYQGoP6dpAAAmJ0lEQVR4nO3df3RU9Z3/8deQSYb8Nj80QyQgYMJREzxtXCPRlSghEheiZV2sWCoWuyiKTQHRyPYkWAkWFojCqYvIQoRFbLdC1VpKWDUVUyzEZQXqKiraABnjapoEiBOIn+8fPd5vhx/CwIT5THw+zrnn9N77SXjPLWaeTOaHyxhjBAAAYJE+4R4AAADgWAQKAACwDoECAACsQ6AAAADrECgAAMA6BAoAALAOgQIAAKxDoAAAAOsQKAAAwDoECgAAsE5QgVJVVSWXyxWweb1e57wxRlVVVcrMzFRsbKyKioq0e/fugO/h9/s1bdo0paenKz4+XmVlZdq3b19obg0AAOgVgn4E5bLLLlNzc7Oz7dy50zk3f/58LVq0SEuXLtW2bdvk9Xo1atQodXR0OGvKy8u1fv16rVu3Tlu2bNHBgwc1ZswYdXd3h+YWAQCAiOcK5sMCq6qqtGHDBu3YseO4c8YYZWZmqry8XA8++KCkvz5akpGRoZ/97GeaMmWK2tradP7552v16tW69dZbJUkHDhxQVlaWXn75Zd1www2nNceXX36pAwcOKDExUS6X63THBwAAYWSMUUdHhzIzM9Wnz9c/RuIO9pvv2bNHmZmZ8ng8KigoUHV1tQYPHqy9e/fK5/OppKTEWevxeDRixAg1NDRoypQpamxs1JEjRwLWZGZmKjc3Vw0NDScNFL/fL7/f7+zv379fl156abCjAwAACzQ1Nal///5fuyaoQCkoKNAzzzyjnJwcffLJJ3r00UdVWFio3bt3y+fzSZIyMjICviYjI0Mff/yxJMnn8ykmJkYpKSnHrfnq609k3rx5mjNnznHHm5qalJSUFMxNAAAAYdLe3q6srCwlJiaecm1QgVJaWur877y8PA0fPlxDhgxRbW2trrrqKkk67lcuxphT/hrmVGsqKio0ffp0Z/+rG5iUlESgAAAQYU7n6Rln9TLj+Ph45eXlac+ePc6reY59JKSlpcV5VMXr9aqrq0utra0nXXMiHo/HiRGiBACA3u+sAsXv9+udd95Rv379NGjQIHm9XtXV1Tnnu7q6VF9fr8LCQklSfn6+oqOjA9Y0Nzdr165dzhoAAICgfsUzc+ZMjR07VgMGDFBLS4seffRRtbe364477pDL5VJ5ebmqq6uVnZ2t7OxsVVdXKy4uThMmTJAkJScna/LkyZoxY4bS0tKUmpqqmTNnKi8vT8XFxT1yAwEAQOQJKlD27dun2267Tf/3f/+n888/X1dddZW2bt2qgQMHSpJmzZqlzs5OTZ06Va2trSooKNCmTZsCngyzePFiud1ujR8/Xp2dnRo5cqRWrVqlqKio0N4yAAAQsYJ6HxRbtLe3Kzk5WW1tbTwfBQCACBHM/TefxQMAAKxDoAAAAOsQKAAAwDoECgAAsA6BAgAArEOgAAAA6xAoAADAOgQKAACwDoECAACsE9Rb3QM4t+bMmRPuEU5LZWVluEcA0MvwCAoAALAOgQIAAKxDoAAAAOsQKAAAwDoECgAAsA6BAgAArEOgAAAA6xAoAADAOgQKAACwDoECAACsQ6AAAADrECgAAMA6BAoAALAOgQIAAKxDoAAAAOsQKAAAwDoECgAAsA6BAgAArEOgAAAA6xAoAADAOgQKAACwDoECAACsQ6AAAADrECgAAMA6BAoAALAOgQIAAKxDoAAAAOsQKAAAwDoECgAAsA6BAgAArEOgAAAA6xAoAADAOgQKAACwDoECAACsQ6AAAADrECgAAMA6BAoAALAOgQIAAKxDoAAAAOsQKAAAwDoECgAAsA6BAgAArEOgAAAA6xAoAADAOgQKAACwDoECAACsQ6AAAADrECgAAMA6BAoAALAOgQIAAKxDoAAAAOsQKAAAwDoECgAAsM5ZBcq8efPkcrlUXl7uHDPGqKqqSpmZmYqNjVVRUZF2794d8HV+v1/Tpk1Tenq64uPjVVZWpn379p3NKAAAoBc540DZtm2bnnrqKQ0bNizg+Pz587Vo0SItXbpU27Ztk9fr1ahRo9TR0eGsKS8v1/r167Vu3Tpt2bJFBw8e1JgxY9Td3X3mtwQAAPQaZxQoBw8e1O23367ly5crJSXFOW6MUU1NjWbPnq1x48YpNzdXtbW1Onz4sNauXStJamtr04oVK7Rw4UIVFxfrW9/6ltasWaOdO3dq8+bNoblVAAAgop1RoNx77736h3/4BxUXFwcc37t3r3w+n0pKSpxjHo9HI0aMUENDgySpsbFRR44cCViTmZmp3NxcZ82x/H6/2tvbAzYAANB7uYP9gnXr1umtt97Stm3bjjvn8/kkSRkZGQHHMzIy9PHHHztrYmJiAh55+WrNV19/rHnz5mnOnDnBjgoAACJUUI+gNDU16Uc/+pHWrFmjvn37nnSdy+UK2DfGHHfsWF+3pqKiQm1tbc7W1NQUzNgAACDCBBUojY2NamlpUX5+vtxut9xut+rr6/XEE0/I7XY7j5wc+0hIS0uLc87r9aqrq0utra0nXXMsj8ejpKSkgA0AAPReQQXKyJEjtXPnTu3YscPZrrjiCt1+++3asWOHBg8eLK/Xq7q6Oudrurq6VF9fr8LCQklSfn6+oqOjA9Y0Nzdr165dzhoAAPDNFtRzUBITE5WbmxtwLD4+Xmlpac7x8vJyVVdXKzs7W9nZ2aqurlZcXJwmTJggSUpOTtbkyZM1Y8YMpaWlKTU1VTNnzlReXt5xT7oFAADfTEE/SfZUZs2apc7OTk2dOlWtra0qKCjQpk2blJiY6KxZvHix3G63xo8fr87OTo0cOVKrVq1SVFRUqMcBAAARyGWMMeEeIljt7e1KTk5WW1sbz0dBrxYpr16rrKwM9wgAIkAw9998Fg8AALAOgQIAAKxDoAAAAOsQKAAAwDoECgAAsA6BAgAArEOgAAAA6xAoAADAOgQKAACwDoECAACsQ6AAAADrECgAAMA6BAoAALAOgQIAAKxDoAAAAOsQKAAAwDoECgAAsA6BAgAArEOgAAAA6xAoAADAOgQKAACwDoECAACsQ6AAAADrECgAAMA6BAoAALAOgQIAAKxDoAAAAOsQKAAAwDoECgAAsA6BAgAArEOgAAAA6xAoAADAOgQKAACwDoECAACsQ6AAAADrECgAAMA6BAoAALAOgQIAAKxDoAAAAOsQKAAAwDoECgAAsA6BAgAArEOgAAAA6xAoAADAOgQKAACwDoECAACsQ6AAAADrECgAAMA6BAoAALAOgQIAAKxDoAAAAOsQKAAAwDoECgAAsA6BAgAArEOgAAAA6xAoAADAOgQKAACwDoECAACsQ6AAAADrECgAAMA6BAoAALAOgQIAAKwTVKA8+eSTGjZsmJKSkpSUlKThw4frt7/9rXPeGKOqqiplZmYqNjZWRUVF2r17d8D38Pv9mjZtmtLT0xUfH6+ysjLt27cvNLcGAAD0CkEFSv/+/fXYY49p+/bt2r59u66//nrddNNNToTMnz9fixYt0tKlS7Vt2zZ5vV6NGjVKHR0dzvcoLy/X+vXrtW7dOm3ZskUHDx7UmDFj1N3dHdpbBgAAIlZQgTJ27FjdeOONysnJUU5OjubOnauEhARt3bpVxhjV1NRo9uzZGjdunHJzc1VbW6vDhw9r7dq1kqS2tjatWLFCCxcuVHFxsb71rW9pzZo12rlzpzZv3twjNxAAAESeM34OSnd3t9atW6dDhw5p+PDh2rt3r3w+n0pKSpw1Ho9HI0aMUENDgySpsbFRR44cCViTmZmp3NxcZ82J+P1+tbe3B2wAAKD3CjpQdu7cqYSEBHk8Ht19991av369Lr30Uvl8PklSRkZGwPqMjAznnM/nU0xMjFJSUk665kTmzZun5ORkZ8vKygp2bAAAEEGCDpShQ4dqx44d2rp1q+655x7dcccd+tOf/uScd7lcAeuNMccdO9ap1lRUVKitrc3Zmpqagh0bAABEkKADJSYmRhdffLGuuOIKzZs3T5dffrkef/xxeb1eSTrukZCWlhbnURWv16uuri61traedM2JeDwe55VDX20AAKD3Ouv3QTHGyO/3a9CgQfJ6vaqrq3POdXV1qb6+XoWFhZKk/Px8RUdHB6xpbm7Wrl27nDUAAADuYBY//PDDKi0tVVZWljo6OrRu3Tq99tpr2rhxo1wul8rLy1VdXa3s7GxlZ2erurpacXFxmjBhgiQpOTlZkydP1owZM5SWlqbU1FTNnDlTeXl5Ki4u7pEbCAAAIk9QgfLJJ59o4sSJam5uVnJysoYNG6aNGzdq1KhRkqRZs2aps7NTU6dOVWtrqwoKCrRp0yYlJiY632Px4sVyu90aP368Ojs7NXLkSK1atUpRUVGhvWUAACBiuYwxJtxDBKu9vV3Jyclqa2vj+Sjo1ebMmRPuEU5LZWVluEcAEAGCuf/ms3gAAIB1CBQAAGAdAgUAAFiHQAEAANYhUAAAgHUIFAAAYB0CBQAAWIdAAQAA1iFQAACAdQgUAABgHQIFAABYh0ABAADWIVAAAIB1CBQAAGAdAgUAAFiHQAEAANYhUAAAgHUIFAAAYB0CBQAAWIdAAQAA1iFQAACAdQgUAABgHQIFAABYh0ABAADWcYd7AAA4F+bMmRPuEU6psrIy3CMA1iBQ/gY/wAAAsAO/4gEAANYhUAAAgHUIFAAAYB0CBQAAWIdAAQAA1iFQAACAdQgUAABgHQIFAABYh0ABAADWIVAAAIB1CBQAAGAdAgUAAFiHQAEAANYhUAAAgHUIFAAAYB0CBQAAWIdAAQAA1iFQAACAdQgUAABgHQIFAABYh0ABAADWIVAAAIB1CBQAAGAdAgUAAFiHQAEAANYhUAAAgHUIFAAAYB0CBQAAWIdAAQAA1iFQAACAdQgUAABgHQIFAABYh0ABAADWIVAAAIB1CBQAAGAdAgUAAFiHQAEAANYJKlDmzZunv/u7v1NiYqIuuOAC3XzzzXr33XcD1hhjVFVVpczMTMXGxqqoqEi7d+8OWOP3+zVt2jSlp6crPj5eZWVl2rdv39nfGgAA0CsEFSj19fW69957tXXrVtXV1eno0aMqKSnRoUOHnDXz58/XokWLtHTpUm3btk1er1ejRo1SR0eHs6a8vFzr16/XunXrtGXLFh08eFBjxoxRd3d36G4ZAACIWO5gFm/cuDFgf+XKlbrgggvU2Nioa6+9VsYY1dTUaPbs2Ro3bpwkqba2VhkZGVq7dq2mTJmitrY2rVixQqtXr1ZxcbEkac2aNcrKytLmzZt1ww03hOimAQCASHVWz0Fpa2uTJKWmpkqS9u7dK5/Pp5KSEmeNx+PRiBEj1NDQIElqbGzUkSNHAtZkZmYqNzfXWXMsv9+v9vb2gA0AAPReZxwoxhhNnz5d11xzjXJzcyVJPp9PkpSRkRGwNiMjwznn8/kUExOjlJSUk6451rx585ScnOxsWVlZZzo2AACIAGccKPfdd5/efvttPfvss8edc7lcAfvGmOOOHevr1lRUVKitrc3ZmpqaznRsAAAQAc4oUKZNm6YXXnhBr776qvr37+8c93q9knTcIyEtLS3Ooyper1ddXV1qbW096ZpjeTweJSUlBWwAAKD3CipQjDG677779Pzzz+uVV17RoEGDAs4PGjRIXq9XdXV1zrGuri7V19ersLBQkpSfn6/o6OiANc3Nzdq1a5ezBgAAfLMF9Sqee++9V2vXrtWvf/1rJSYmOo+UJCcnKzY2Vi6XS+Xl5aqurlZ2drays7NVXV2tuLg4TZgwwVk7efJkzZgxQ2lpaUpNTdXMmTOVl5fnvKoHAAB8swUVKE8++aQkqaioKOD4ypUrNWnSJEnSrFmz1NnZqalTp6q1tVUFBQXatGmTEhMTnfWLFy+W2+3W+PHj1dnZqZEjR2rVqlWKioo6u1sDAAB6haACxRhzyjUul0tVVVWqqqo66Zq+fftqyZIlWrJkSTB/PAAA+Ibgs3gAAIB1CBQAAGAdAgUAAFiHQAEAANYhUAAAgHUIFAAAYB0CBQAAWIdAAQAA1iFQAACAdQgUAABgHQIFAABYh0ABAADWIVAAAIB1CBQAAGAdAgUAAFiHQAEAANYhUAAAgHUIFAAAYB0CBQAAWIdAAQAA1iFQAACAdQgUAABgHQIFAABYh0ABAADWIVAAAIB1CBQAAGAdAgUAAFiHQAEAANYhUAAAgHUIFAAAYB0CBQAAWIdAAQAA1iFQAACAdQgUAABgHQIFAABYh0ABAADWIVAAAIB1CBQAAGAdAgUAAFiHQAEAANYhUAAAgHUIFAAAYB0CBQAAWIdAAQAA1iFQAACAdQgUAABgHQIFAABYh0ABAADWIVAAAIB1CBQAAGAdAgUAAFiHQAEAANYhUAAAgHUIFAAAYB0CBQAAWIdAAQAA1iFQAACAdQgUAABgHQIFAABYh0ABAADWIVAAAIB1CBQAAGAdAgUAAFgn6ED5/e9/r7FjxyozM1Mul0sbNmwIOG+MUVVVlTIzMxUbG6uioiLt3r07YI3f79e0adOUnp6u+Ph4lZWVad++fWd1QwAAQO8RdKAcOnRIl19+uZYuXXrC8/Pnz9eiRYu0dOlSbdu2TV6vV6NGjVJHR4ezpry8XOvXr9e6deu0ZcsWHTx4UGPGjFF3d/eZ3xIAANBruIP9gtLSUpWWlp7wnDFGNTU1mj17tsaNGydJqq2tVUZGhtauXaspU6aora1NK1as0OrVq1VcXCxJWrNmjbKysrR582bdcMMNZ3FzAABAbxDS56Ds3btXPp9PJSUlzjGPx6MRI0aooaFBktTY2KgjR44ErMnMzFRubq6z5lh+v1/t7e0BGwAA6L1CGig+n0+SlJGREXA8IyPDOefz+RQTE6OUlJSTrjnWvHnzlJyc7GxZWVmhHBsAAFimR17F43K5AvaNMccdO9bXramoqFBbW5uzNTU1hWxWAABgn5AGitfrlaTjHglpaWlxHlXxer3q6upSa2vrSdccy+PxKCkpKWADAAC9V0gDZdCgQfJ6vaqrq3OOdXV1qb6+XoWFhZKk/Px8RUdHB6xpbm7Wrl27nDUAAOCbLehX8Rw8eFDvv/++s793717t2LFDqampGjBggMrLy1VdXa3s7GxlZ2erurpacXFxmjBhgiQpOTlZkydP1owZM5SWlqbU1FTNnDlTeXl5zqt6AADAN1vQgbJ9+3Zdd911zv706dMlSXfccYdWrVqlWbNmqbOzU1OnTlVra6sKCgq0adMmJSYmOl+zePFiud1ujR8/Xp2dnRo5cqRWrVqlqKioENwkAAAQ6YIOlKKiIhljTnre5XKpqqpKVVVVJ13Tt29fLVmyREuWLAn2jwcAAN8AfBYPAACwDoECAACsQ6AAAADrECgAAMA6BAoAALAOgQIAAKxDoAAAAOsQKAAAwDoECgAAsA6BAgAArEOgAAAA6xAoAADAOgQKAACwDoECAACsQ6AAAADrECgAAMA6BAoAALAOgQIAAKxDoAAAAOsQKAAAwDoECgAAsA6BAgAArEOgAAAA6xAoAADAOgQKAACwDoECAACsQ6AAAADrECgAAMA6BAoAALAOgQIAAKxDoAAAAOsQKAAAwDoECgAAsA6BAgAArEOgAAAA6xAoAADAOgQKAACwDoECAACsQ6AAAADrECgAAMA6BAoAALAOgQIAAKxDoAAAAOsQKAAAwDoECgAAsA6BAgAArEOgAAAA6xAoAADAOgQKAACwDoECAACsQ6AAAADrECgAAMA6BAoAALAOgQIAAKxDoAAAAOsQKAAAwDoECgAAsA6BAgAArEOgAAAA6xAoAADAOgQKAACwDoECAACsE9ZA+fnPf65Bgwapb9++ys/P1+uvvx7OcQAAgCXc4fqDn3vuOZWXl+vnP/+5rr76ai1btkylpaX605/+pAEDBoRrLADAKcyZMyfcI5xSZWVluEfAWQrbIyiLFi3S5MmTddddd+mSSy5RTU2NsrKy9OSTT4ZrJAAAYImwPILS1dWlxsZGPfTQQwHHS0pK1NDQcNx6v98vv9/v7Le1tUmS2tvbQzrXF198EdLv1xNCfZtht0j4OylFxt/LSLiWkXAdJa4lztxX/78YY0692ITB/v37jSTzxhtvBByfO3euycnJOW59ZWWlkcTGxsbGxsbWC7ampqZTtkLYnoMiSS6XK2DfGHPcMUmqqKjQ9OnTnf0vv/xSn3/+udLS0k643hbt7e3KyspSU1OTkpKSwj1OxOI6hg7XMnS4lqHBdQydSLiWxhh1dHQoMzPzlGvDEijp6emKioqSz+cLON7S0qKMjIzj1ns8Hnk8noBj5513Xk+OGFJJSUnW/mWJJFzH0OFahg7XMjS4jqFj+7VMTk4+rXVheZJsTEyM8vPzVVdXF3C8rq5OhYWF4RgJAABYJGy/4pk+fbomTpyoK664QsOHD9dTTz2lP//5z7r77rvDNRIAALBE2ALl1ltv1WeffaZHHnlEzc3Nys3N1csvv6yBAweGa6SQ83g8qqysPO7XUwgO1zF0uJahw7UMDa5j6PS2a+ky5nRe6wMAAHDu8Fk8AADAOgQKAACwDoECAACsQ6AAAADrECgAAMA6YX2rewAAcGba2tpUV1enjz76SC6XS4MGDVJxcbHV7yIbDB5BAYBT2LNnj2677bYTfkJuW1ubJkyYoA8//DAMk0WeX/7yl7r99ts1fvx4PfXUU+EeJ2KtWbNGAwcO1Pjx4zVr1iw98MADuuWWWzRw4EA999xz4R4vJAiUc6S5uVn33XdfuMeIGPwQO3uff/659u3bF3Bs9+7duvPOOzV+/HitXbs2TJNFngULFigrK+uE/zJNTk5WVlaWFixYEIbJIstTTz2lW2+9Vdu3b9e7776re+65RxUVFeEeK+K89dZbuvPOO3XzzTfrv//7v9XZ2anDhw9r+/btGjt2rCZOnKj/+Z//CfeYZ++Un3eM07Z7926zdOlSs2zZMtPa2mqMMebTTz815eXlpm/fvuaSSy4J74ARYtmyZcblcpmcnBwzbNgw06dPH/PQQw+Fe6yI893vftf8+Mc/dvY/+eQTk5KSYi677DJTVlZmoqOjzTPPPBPGCSPH0KFDzR//+MeTnt++fbvJyck5hxNFptzcXPMv//Ivzv7KlStNQkJCGCeKTJMmTTK33HLLSc//4z/+o7nzzjvP4UQ9g0AJkRdffNHExMQYl8tlXC6XGTJkiHnllVdMenq6KSoqMi+++GK4R4wY/BALjYsuusi8+uqrzv6CBQvMkCFDzJEjR5z9goKCME0XWfr27Ws++uijk57/6KOPTGxs7DmcKDLFxcWZDz74wNk/evSoiY6ONs3NzWGcKvJkZ2eburq6k56vq6sz2dnZ53CinsGveEJk7ty5uvvuu9Xe3q5//dd/1Ycffqi7775bv/rVr/Tqq69qzJgx4R4xYnz44Ye68847nf2JEyfK7/fL5/OFcarI4/P5NGjQIGf/lVde0Xe+8x253X99bnxZWZn27NkTrvEiSnJysj744IOTnn///fd7zRMTe1JnZ6cSEhKc/aioKHk8Hh0+fDiMU0WeAwcOKCcn56Tnc3JytH///nM4Uc/gVTwh8s4776i2tlYJCQm6//77NWvWLNXU1Ojaa68N92gRhx9ioZGUlKS//OUvzgdw/vGPf9TkyZOd8y6XS36/P1zjRZRrr71WS5Ys0fXXX3/C80888YT+/u///hxPFZmefvrpgP++jx49qlWrVik9Pd05dv/994djtIhx+PBh9e3b96TnPR6Pvvjii3M4Uc8gUEKkvb1d5513niTJ7XYrNjb2awsXX48fYmfvyiuv1BNPPKHly5fr+eefV0dHR8Ad7HvvvaesrKwwThg5KioqNHz4cN1yyy2aNWuWhg4dKkn63//9X82fP1+/+93v1NDQEOYp7TdgwAAtX7484JjX69Xq1audfZfLxX/bp+F3v/udkpOTT3juL3/5y7kdpofwacYh0qdPH73yyitKTU2VJBUWFuoXv/iF+vfvH7Bu2LBh4Rgvolx00UVyuVxfu8blcvGyzlPYsWOHiouL1dHRoaNHj+rhhx/WT3/6U+f8xIkTFR8fr3/7t38L45SR46WXXtIPfvADffbZZ84xY4zS09P19NNPq6ysLIzT4ZukT59TPzvD5XKpu7v7HEzTcwiUEPm6vzAul0vGmF7xF8YW+/fv14UXXhjuMaz36aef6o033lC/fv1UUFAQcO43v/mNkpKS+NVEEDo7O7Vx40a9//77MsZo6NChKikpUWxsbLhHiwhvvvmmPv/8c5WWljrHnnnmGVVWVurQoUO6+eabtWTJEnk8njBOCVsQKCHy8ccfn9a6r54PgDPj8/lUXV2t5cuXq7OzM9zjRCyfz6e5c+fq6aef5jqehhPdsdbW1qqqqoo71iCMHj1a1113nR588EFJ0s6dO/Xtb39bkyZN0iWXXKIFCxZoypQpqqqqCu+glvvBD36gxx9/XImJieEepWeF7fVDvczhw4fN1KlTTWZmpjn//PPNbbfdZj799NNwjxWRWltbzYQJE0x6errp16+fefzxx013d7f5yU9+YmJjY80VV1xh1q5dG+4xrcd1DJ3Ro0ebxx57zNl/++23TXR0tLnrrrvMwoULjdfrNZWVleEbMEJ4vV6zbds2Z//hhx82V199tbP/i1/8gveLOg19+vQxn3zySbjH6HEESojMnDnTxMXFmR/+8Idm2rRpJj09/WvfSAcnd88995j+/fubGTNmmMsuu8z06dPHlJaWmuuuu8689tpr4R4vYnAdQ4c71tDweDzmz3/+s7N/9dVXm5/+9KfO/t69e3nPo9PgcrkIFJy+wYMHm2effdbZf/PNN43b7TZHjx4N41SRacCAAc6bEH3wwQfG5XKZH/3oR+EdKgJxHUOHO9bQGDBggKmvrzfGGOP3+01sbKzZvHmzc/7tt982KSkp4RovYrhcLtPS0hLuMXocb9QWIk1NTQFPNrzyyivldrt14MCBME4VmQ4cOKBLL71UkjR48GD17dtXd911V5inijxcx9DJyMjQ3r17JUldXV166623NHz4cOd8R0eHoqOjwzVexBg9erQeeughvf7666qoqFBcXFzAz823335bQ4YMCeOEkSMnJ0epqalfu0U63gclRLq7uxUTExNwzO126+jRo2GaKHJ9+eWXAT/so6KiFB8fH8aJIhPXMXS+umP92c9+pg0bNnDHeoYeffRRjRs3TiNGjFBCQoJqa2sDfm7++7//u0pKSsI4YeSYM2fOSd8HpbfgVTwh0qdPH5WWlgY8i//FF1/U9ddfH3Cn8Pzzz4djvIhy7LU80XWUuJanwnUMnU8//VTjxo3TG2+84dyxfuc733HOjxw5UldddZXmzp0bxikjR1tbmxISEhQVFRVw/PPPP1dCQsJx/9hDoD59+sjn8+mCCy4I9yg9ikAJkb/97Jivs3Llyh6eJPJxLUOD6xh63LHCBlFRUWpubiZQAACAPXgEBQAAIEx4FQ8AALAOgQIAAKxDoAAAAOsQKAAiXlFRkcrLy8M9BoAQIlAAnLFJkybJ5XIdt40ePfqUX3vRRReppqam54cEEJF4J1kAZ2X06NHHvZfK375hIQCcCR5BAXBWPB6PvF5vwJaSkiJJqqqq0oABA+TxeJSZman7779f0l9/JfPxxx/rxz/+sfOoiyR99tlnuu2229S/f3/FxcUpLy9Pzz77bMCfd+jQIX3/+99XQkKC+vXrp4ULFx43U2trq77//e8rJSVFcXFxKi0t1Z49e3r4SgAIJQIFQI/4z//8Ty1evFjLli3Tnj17tGHDBuXl5Un669vr9+/fX4888oiam5vV3NwsSfriiy+Un5+vl156Sbt27dI///M/a+LEiXrzzTed7/vAAw/o1Vdf1fr167Vp0ya99tpramxsDPizJ02apO3bt+uFF17QH/7wBxljdOONN+rIkSPn7gIAOCv8igfAWXnppZeUkJAQcOzBBx9UfHy8vF6viouLFR0drQEDBujKK6+UJKWmpioqKkqJiYnyer3O11144YWaOXOmsz9t2jRt3LhRv/zlL1VQUKCDBw9qxYoVeuaZZzRq1ChJUm1trfr37+98zZ49e/TCCy/ojTfeUGFhoSTpP/7jP5SVlaUNGzbon/7pn3rsWgAIHQIFwFm57rrr9OSTTwYcS01N1aFDh1RTU6PBgwdr9OjRuvHGGzV27Fi53Sf/sdPd3a3HHntMzz33nPbv3y+/3y+/3+98wOEHH3ygrq4uDR8+PODPGjp0qLP/zjvvyO12q6CgwDmWlpamoUOH6p133gnVzQbQwwgUAGclPj5eF1988XHHU1NT9e6776qurk6bN2/W1KlTtWDBAtXX1ys6OvqE32vhwoVavHixampqlJeXp/j4eJWXl6urq0uSdDqfzHGyNcYY57kuAOzHc1AA9JjY2FiVlZXpiSee0GuvvaY//OEP2rlzpyQpJiZG3d3dAetff/113XTTTfre976nyy+/XIMHDw54cuvFF1+s6Ohobd261TnW2tqq9957z9m/9NJLdfTo0YDnrXz22Wd67733dMkll/TUTQUQYjyCAuCs+P1++Xy+gGNut1svvfSSuru7VVBQoLi4OK1evVqxsbEaOHCgpL++D8rvf/97ffe735XH41F6erouvvhi/epXv1JDQ4NSUlK0aNEi+Xw+JywSEhI0efJkPfDAA0pLS1NGRoZmz56tPn3+/7+1srOzddNNN+mHP/yhli1bpsTERD300EO68MILddNNN527CwPgrPAICoCzsnHjRvXr1y9gu+aaa3Teeedp+fLluvrqqzVs2DD913/9l1588UWlpaVJkh555BF99NFHGjJkiM4//3xJ0k9+8hN9+9vf1g033KCioiJ5vV7dfPPNAX/eggULdO2116qsrEzFxcW65pprlJ+fH7Bm5cqVys/P15gxYzR8+HAZY/Tyyy+f9FdLAOzjMqfzS10AAIBziEdQAACAdQgUAABgHQIFAABYh0ABAADWIVAAAIB1CBQAAGAdAgUAAFiHQAEAANYhUAAAgHUIFAAAYB0CBQAAWIdAAQAA1vl/vv8OzrbKCSoAAAAASUVORK5CYII=",
      "text/plain": [
       "<Figure size 640x480 with 1 Axes>"
      ]
     },
     "metadata": {},
     "output_type": "display_data"
    }
   ],
   "source": [
    "agrupado.plot.bar(color = 'gray')"
   ]
  },
  {
   "cell_type": "code",
   "execution_count": 12,
   "metadata": {},
   "outputs": [
    {
     "data": {
      "text/plain": [
       "Genero\n",
       "F              2\n",
       "Fem            1\n",
       "Feminino     461\n",
       "M              6\n",
       "Masculino    521\n",
       "dtype: int64"
      ]
     },
     "execution_count": 12,
     "metadata": {},
     "output_type": "execute_result"
    }
   ],
   "source": [
    "#genero\n",
    "agrupado = dataset.groupby(['Genero']).size()\n",
    "agrupado"
   ]
  },
  {
   "cell_type": "raw",
   "metadata": {},
   "source": [
    "Aqui deveremos padronizar os dados"
   ]
  },
  {
   "cell_type": "code",
   "execution_count": 13,
   "metadata": {},
   "outputs": [
    {
     "data": {
      "text/plain": [
       "<Axes: xlabel='Genero'>"
      ]
     },
     "execution_count": 13,
     "metadata": {},
     "output_type": "execute_result"
    },
    {
     "data": {
      "image/png": "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",
      "text/plain": [
       "<Figure size 640x480 with 1 Axes>"
      ]
     },
     "metadata": {},
     "output_type": "display_data"
    }
   ],
   "source": [
    "agrupado.plot.bar(color = 'gray')"
   ]
  },
  {
   "cell_type": "code",
   "execution_count": 14,
   "metadata": {},
   "outputs": [
    {
     "data": {
      "text/plain": [
       "count    999.000000\n",
       "mean     648.621622\n",
       "std       98.264219\n",
       "min      376.000000\n",
       "25%      580.000000\n",
       "50%      653.000000\n",
       "75%      721.000000\n",
       "max      850.000000\n",
       "Name: Score, dtype: float64"
      ]
     },
     "execution_count": 14,
     "metadata": {},
     "output_type": "execute_result"
    }
   ],
   "source": [
    "#explorar colunas numéricas\n",
    "#score\n",
    "dataset['Score'].describe()"
   ]
  },
  {
   "cell_type": "code",
   "execution_count": 15,
   "metadata": {},
   "outputs": [
    {
     "data": {
      "text/plain": [
       "Text(0.5, 1.0, 'Score')"
      ]
     },
     "execution_count": 15,
     "metadata": {},
     "output_type": "execute_result"
    },
    {
     "data": {
      "image/png": "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",
      "text/plain": [
       "<Figure size 640x480 with 1 Axes>"
      ]
     },
     "metadata": {},
     "output_type": "display_data"
    }
   ],
   "source": [
    "srn.boxplot(dataset['Score']).set_title('Score')"
   ]
  },
  {
   "cell_type": "code",
   "execution_count": 30,
   "metadata": {},
   "outputs": [
    {
     "name": "stderr",
     "output_type": "stream",
     "text": [
      "C:\\Users\\PAI\\anaconda3\\Lib\\site-packages\\seaborn\\_oldcore.py:1119: FutureWarning: use_inf_as_na option is deprecated and will be removed in a future version. Convert inf values to NaN before operating instead.\n",
      "  with pd.option_context('mode.use_inf_as_na', True):\n"
     ]
    },
    {
     "data": {
      "text/plain": [
       "<Axes: xlabel='Score', ylabel='Count'>"
      ]
     },
     "execution_count": 30,
     "metadata": {},
     "output_type": "execute_result"
    },
    {
     "data": {
      "image/png": "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",
      "text/plain": [
       "<Figure size 640x480 with 1 Axes>"
      ]
     },
     "metadata": {},
     "output_type": "display_data"
    }
   ],
   "source": [
    "srn.histplot(dataset['Score'])"
   ]
  },
  {
   "cell_type": "code",
   "execution_count": 25,
   "metadata": {},
   "outputs": [
    {
     "data": {
      "text/plain": [
       "count    999.000000\n",
       "mean      38.902903\n",
       "std       11.401912\n",
       "min      -20.000000\n",
       "25%       32.000000\n",
       "50%       37.000000\n",
       "75%       44.000000\n",
       "max      140.000000\n",
       "Name: Idade, dtype: float64"
      ]
     },
     "execution_count": 25,
     "metadata": {},
     "output_type": "execute_result"
    }
   ],
   "source": [
    "#idade\n",
    "dataset['Idade'].describe()"
   ]
  },
  {
   "cell_type": "code",
   "execution_count": 26,
   "metadata": {},
   "outputs": [
    {
     "data": {
      "text/plain": [
       "Text(0.5, 1.0, 'Idade')"
      ]
     },
     "execution_count": 26,
     "metadata": {},
     "output_type": "execute_result"
    },
    {
     "data": {
      "image/png": "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",
      "text/plain": [
       "<Figure size 640x480 with 1 Axes>"
      ]
     },
     "metadata": {},
     "output_type": "display_data"
    }
   ],
   "source": [
    "srn.boxplot(dataset['Idade']).set_title('Idade')"
   ]
  },
  {
   "cell_type": "raw",
   "metadata": {},
   "source": [
    "Aqui vamos verificar os valores fora do padrão como -20, 0 e 140."
   ]
  },
  {
   "cell_type": "code",
   "execution_count": 31,
   "metadata": {},
   "outputs": [
    {
     "name": "stderr",
     "output_type": "stream",
     "text": [
      "C:\\Users\\PAI\\AppData\\Local\\Temp\\ipykernel_4316\\1712185710.py:1: UserWarning: \n",
      "\n",
      "`distplot` is a deprecated function and will be removed in seaborn v0.14.0.\n",
      "\n",
      "Please adapt your code to use either `displot` (a figure-level function with\n",
      "similar flexibility) or `histplot` (an axes-level function for histograms).\n",
      "\n",
      "For a guide to updating your code to use the new functions, please see\n",
      "https://gist.github.com/mwaskom/de44147ed2974457ad6372750bbe5751\n",
      "\n",
      "  srn.distplot(dataset['Idade']).set_title('Idade')\n",
      "C:\\Users\\PAI\\anaconda3\\Lib\\site-packages\\seaborn\\_oldcore.py:1119: FutureWarning: use_inf_as_na option is deprecated and will be removed in a future version. Convert inf values to NaN before operating instead.\n",
      "  with pd.option_context('mode.use_inf_as_na', True):\n"
     ]
    },
    {
     "data": {
      "text/plain": [
       "Text(0.5, 1.0, 'Idade')"
      ]
     },
     "execution_count": 31,
     "metadata": {},
     "output_type": "execute_result"
    },
    {
     "data": {
      "image/png": "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",
      "text/plain": [
       "<Figure size 640x480 with 1 Axes>"
      ]
     },
     "metadata": {},
     "output_type": "display_data"
    }
   ],
   "source": [
    "srn.distplot(dataset['Idade']).set_title('Idade')"
   ]
  },
  {
   "cell_type": "code",
   "execution_count": 32,
   "metadata": {},
   "outputs": [
    {
     "data": {
      "text/plain": [
       "count    9.990000e+02\n",
       "mean     7.164928e+06\n",
       "std      6.311840e+06\n",
       "min      0.000000e+00\n",
       "25%      0.000000e+00\n",
       "50%      8.958835e+06\n",
       "75%      1.258684e+07\n",
       "max      2.117743e+07\n",
       "Name: Saldo, dtype: float64"
      ]
     },
     "execution_count": 32,
     "metadata": {},
     "output_type": "execute_result"
    }
   ],
   "source": [
    "#saldo\n",
    "dataset['Saldo'].describe()"
   ]
  },
  {
   "cell_type": "code",
   "execution_count": 33,
   "metadata": {},
   "outputs": [
    {
     "data": {
      "text/plain": [
       "Text(0.5, 1.0, 'Saldo')"
      ]
     },
     "execution_count": 33,
     "metadata": {},
     "output_type": "execute_result"
    },
    {
     "data": {
      "image/png": "iVBORw0KGgoAAAANSUhEUgAAAiMAAAGxCAYAAACwbLZkAAAAOXRFWHRTb2Z0d2FyZQBNYXRwbG90bGliIHZlcnNpb24zLjguMCwgaHR0cHM6Ly9tYXRwbG90bGliLm9yZy81sbWrAAAACXBIWXMAAA9hAAAPYQGoP6dpAAAcH0lEQVR4nO3df6yW9X3/8dcR8ByscFahHg7zoJhMRsX4A5Z6qPgjNMcdEqKOdPqdFW22JmR2Tk7JWmwzNteNjdCVkVapKciczNIFtGaCk0QBU5krCja21NmNeRicEwKZHGR4+HV//3Cc9RQQD4Pz4Rwej+ROel/nc933+xblfva6rnPfVZVKpRIAgELOKz0AAHBuEyMAQFFiBAAoSowAAEWJEQCgKDECABQlRgCAosQIAFCUGAEAihIjQI+8+uqrueOOOzJq1KhUV1enrq4ujY2N+dKXvtTjx/qTP/mTVFVVfaS1l112We67774ePwdw9hMjwEf23HPPZeLEieno6Mi8efPywgsv5G/+5m/y6U9/OsuXLy89HtBHDSw9ANB3zJs3L6NHj84//dM/ZeDA//3r46677sq8efMKTgb0ZY6MAB/Z7t27M3z48G4hctR55/3vXyfLly9PU1NT6uvrM3jw4IwdOzZf+cpXsm/fvpM+x8GDB/NHf/RHGTFiRC644ILccMMN+Zd/+Zfjrn3zzTdz22235eMf/3hqampyzTXX5G//9m9P/QUCRYgR4CNrbGzMq6++mgceeCCvvvpqDh48eNx1b7/9dqZMmZLFixfn+eefz4MPPpjvf//7mTp16kmf4wtf+ELmz5+f6dOn5wc/+EGmTZuW3/qt38p//dd/dVv31ltvZeLEifnJT36ShQsXZuXKlfnkJz+Z++67z1Ea6GsqAB/Rrl27KjfccEMlSSVJZdCgQZWJEydW5s6dW9m7d+9x9zly5Ejl4MGDlXXr1lWSVN54442un82ZM6fyi38NbdmypZKkMnPmzG6PsWzZskqSyr333tu17a677qpUV1dXWltbu61tbm6uXHDBBZV33333NLxioDf0qSMj69evz9SpUzNy5MhUVVXlmWee6dH+R6/c/+Xbxz72sTMzMPQzw4YNy8svv5wf/ehH+cu//Mvcdttt+dd//dfMnj07V111VXbt2pUk+fd///f8zu/8TkaMGJEBAwZk0KBBuemmm5IkW7ZsOeHjv/TSS0mSu+++u9v23/7t3z7m1NCLL76YyZMnp6Ghodv2++67L//93/+dDRs2/J9fL9A7+lSM7Nu3L1dffXW+9a1vndL+s2bNSltbW7fbJz/5yXz2s589zZNC/zZhwoR8+ctfzj/8wz9kx44dmTlzZv7jP/4j8+bNy3vvvZdJkybl1Vdfzde//vWsXbs2P/rRj7Jy5cokyf79+0/4uLt3706SjBgxotv2gQMHZtiwYcesra+vP+YxRo4c2e2xgLNfn/ptmubm5jQ3N5/w5wcOHMjXvva1LFu2LO+++27GjRuXv/qrv8rNN9+cJLnwwgtz4YUXdq1/44038tOf/jSLFi0606NDvzVo0KDMmTMn3/zmN/Pmm2/mxRdfzI4dO7J27dquoyFJ8u677570sY4GR3t7e371V3+1a/uhQ4eOiYthw4alra3tmMfYsWNHkmT48OGn8nKAAvrUkZGT+fznP58f/vCH+d73vpcf//jH+exnP5vf/M3fzNtvv33c9d/97ndzxRVXZNKkSb08KfRNx3vzT/731MvRU6hJUl1d3W3Nd77znZM+/tH/47Bs2bJu27///e/n0KFD3bZNnjy5K3x+0RNPPJELLrgg119//UmfDzg79KkjIx/m3/7t3/LUU0/lP//zP7sO086aNSvPP/98Hn/88fzFX/xFt/WdnZ1ZtmxZvvKVr5QYF/qkW2+9NZdcckmmTp2aX//1X8+RI0eyefPmfOMb38iFF16YP/zDP8zIkSPz8Y9/PDNmzMicOXMyaNCgLFu2LG+88cZJH3/s2LH53Oc+lwULFmTQoEH5zGc+kzfffDPz58/P0KFDu62dM2dO/vEf/zG33HJL/viP/zgXXXRRli1blueeey7z5s1LbW3tmfrHAJxm/SZGXn/99VQqlVxxxRXdtnd2dh5zrjlJVq5cmb1792b69Om9NSL0eV/72tfygx/8IN/85jfT1taWzs7O1NfX5zOf+Uxmz56dsWPHJvngk1q/9KUv5XOf+1w+9rGP5bbbbsvy5ctz3XXXnfQ5Fi9enLq6uixdujQLFy7MNddckxUrVuSuu+7qtm7MmDF55ZVX8tBDD+X+++/P/v37M3bs2Dz++OM+Nh76mKpKpVIpPcSpqKqqytNPP53bb789yQcfsnT33XfnJz/5SQYMGNBt7YUXXnjMBXGTJ0/O0KFD8/TTT/fWyADAcfSbIyPXXnttDh8+nJ07d570GpCtW7fmpZdeyrPPPttL0wEAJ9KnYuS9997Lz3/+8677W7duzebNm3PRRRfliiuuyN13353p06fnG9/4Rq699trs2rUrL774Yq666qpMmTKla78lS5akvr7+Q38zBwDoHX3qNM3atWtzyy23HLP93nvvzdKlS3Pw4MF8/etfzxNPPJHt27dn2LBhaWxszJ/+6Z/mqquuSpIcOXIkl156aaZPn54///M/7+2XAAD8kj4VIwBA/9OvPmcEAOh7xAgAUFSfuID1yJEj2bFjR4YMGdL16Y4AwNmtUqlk7969GTlyZM4778THP/pEjOzYseOYb+YEAPqGbdu25ZJLLjnhz/tEjAwZMiTJBy/mlz8SGgA4O3V0dKShoaHrffxE+kSMHD01M3ToUDECAH3MyS6xcAErAFCUGAEAihIjAEBRYgQAKEqMAABFiREAoCgxAgAUJUYAgKLECABQlBgBAIoSIwBAUX3iu2ngdKpUKnn//fdLj0E++LPo7OxMklRXV5/0+yvoHTU1Nf4s6FVihHPO+++/n+bm5tJjwFlr9erVGTx4cOkxOIc4TQMAFOXICOecmpqarF69uvQY5IOjVHfccUeS5Omnn05NTU3hiUjiz4FeJ0Y451RVVTkEfRaqqanx5wLnKKdpAICixAgAUJQYAQCKEiMAQFFiBAAoSowAAEWJEQCgKDECABQlRgCAosQIAFCUGAEAihIjAEBRPYqRuXPn5jd+4zcyZMiQXHzxxbn99tvz1ltvnXS/devWZfz48ampqcnll1+eRYsWnfLAAED/0qMYWbduXe6///788z//c9asWZNDhw6lqakp+/btO+E+W7duzZQpUzJp0qRs2rQpDz30UB544IGsWLHi/zw8AND3DezJ4ueff77b/ccffzwXX3xxXnvttdx4443H3WfRokUZNWpUFixYkCQZO3ZsNm7cmPnz52fatGmnNjUA0G/8n64Z2bNnT5LkoosuOuGaDRs2pKmpqdu2W2+9NRs3bszBgwePu09nZ2c6Ojq63QCA/umUY6RSqaSlpSU33HBDxo0bd8J17e3tqaur67atrq4uhw4dyq5du467z9y5c1NbW9t1a2hoONUxAYCz3CnHyBe/+MX8+Mc/zlNPPXXStVVVVd3uVyqV424/avbs2dmzZ0/Xbdu2bac6JgBwluvRNSNH/cEf/EGeffbZrF+/PpdccsmHrh0xYkTa29u7bdu5c2cGDhyYYcOGHXef6urqVFdXn8poAEAf06MjI5VKJV/84hezcuXKvPjiixk9evRJ92lsbMyaNWu6bXvhhRcyYcKEDBo0qGfTAgD9To9i5P7778+TTz6Zv//7v8+QIUPS3t6e9vb27N+/v2vN7NmzM3369K77M2bMyDvvvJOWlpZs2bIlS5YsyeLFizNr1qzT9yoAgD6rRzHy6KOPZs+ePbn55ptTX1/fdVu+fHnXmra2trS2tnbdHz16dFatWpW1a9fmmmuuyZ/92Z9l4cKFfq0XAEjSw2tGjl54+mGWLl16zLabbropr7/+ek+eCgA4R/huGgCgKDECABQlRgCAosQIAFCUGAEAihIjAEBRYgQAKEqMAABFiREAoCgxAgAUJUYAgKLECABQlBgBAIoSIwBAUWIEAChKjAAARYkRAKAoMQIAFCVGAICixAgAUJQYAQCKEiMAQFFiBAAoSowAAEWJEQCgKDECABQlRgCAosQIAFCUGAEAihIjAEBRYgQAKEqMAABFiREAoCgxAgAUJUYAgKLECABQlBgBAIoSIwBAUWIEAChKjAAARYkRAKAoMQIAFCVGAICixAgAUJQYAQCKEiMAQFFiBAAoSowAAEWJEQCgKDECABQlRgCAosQIAFCUGAEAihIjAEBRYgQAKEqMAABFiREAoCgxAgAUJUYAgKLECABQlBgBAIoSIwBAUWIEAChKjAAARYkRAKAoMQIAFCVGAICixAgAUJQYAQCK6nGMrF+/PlOnTs3IkSNTVVWVZ5555kPXr127NlVVVcfcfvazn53qzABAPzKwpzvs27cvV199dT7/+c9n2rRpH3m/t956K0OHDu26/4lPfKKnTw0A9EM9jpHm5uY0Nzf3+Ikuvvji/Mqv/MpHWtvZ2ZnOzs6u+x0dHT1+PgCgb+i1a0auvfba1NfXZ/LkyXnppZc+dO3cuXNTW1vbdWtoaOilKQGA3nbGY6S+vj6PPfZYVqxYkZUrV2bMmDGZPHly1q9ff8J9Zs+enT179nTdtm3bdqbHBAAK6fFpmp4aM2ZMxowZ03W/sbEx27Zty/z583PjjTced5/q6upUV1ef6dEAgLNAkV/tvf766/P222+XeGoA4CxTJEY2bdqU+vr6Ek8NAJxlenya5r333svPf/7zrvtbt27N5s2bc9FFF2XUqFGZPXt2tm/fnieeeCJJsmDBglx22WW58sorc+DAgTz55JNZsWJFVqxYcfpeBQDQZ/U4RjZu3Jhbbrml635LS0uS5N57783SpUvT1taW1tbWrp8fOHAgs2bNyvbt2zN48OBceeWVee655zJlypTTMD4A0NdVVSqVSukhTqajoyO1tbXZs2dPtw9OA/q2/fv3d31u0erVqzN48ODCEwGn00d9//bdNABAUWIEAChKjAAARYkRAKAoMQIAFCVGAICixAgAUJQYAQCKEiMAQFFiBAAoSowAAEWJEQCgKDECABQlRgCAosQIAFCUGAEAihIjAEBRYgQAKEqMAABFiREAoCgxAgAUJUYAgKLECABQlBgBAIoSIwBAUWIEAChKjAAARYkRAKAoMQIAFDWw9ADngkqlkvfff7/0GHDW+cX/Lvw3AseqqalJVVVV6THOODHSC95///00NzeXHgPOanfccUfpEeCss3r16gwePLj0GGec0zQAQFGOjPSy9675f6mc5x87JEkqleTIoQ/+93kDk3PgcDScTNWRQ7lw81Olx+hV3hV7WeW8gcmAQaXHgLPI+aUHgLNKpfQABThNAwAUJUYAgKLECABQlBgBAIoSIwBAUWIEAChKjAAARYkRAKAoMQIAFCVGAICixAgAUJQYAQCKEiMAQFFiBAAoSowAAEWJEQCgKDECABQlRgCAosQIAFCUGAEAihIjAEBRYgQAKEqMAABFiREAoCgxAgAUJUYAgKLECABQlBgBAIoSIwBAUWIEAChKjAAARYkRAKAoMQIAFCVGAICiehwj69evz9SpUzNy5MhUVVXlmWeeOek+69aty/jx41NTU5PLL788ixYtOpVZAYB+qMcxsm/fvlx99dX51re+9ZHWb926NVOmTMmkSZOyadOmPPTQQ3nggQeyYsWKHg8LAPQ/A3u6Q3Nzc5qbmz/y+kWLFmXUqFFZsGBBkmTs2LHZuHFj5s+fn2nTpvX06QGAfuaMXzOyYcOGNDU1ddt26623ZuPGjTl48OBx9+ns7ExHR0e3GwDQP53xGGlvb09dXV23bXV1dTl06FB27dp13H3mzp2b2trarltDQ8OZHhMAKKRXfpumqqqq2/1KpXLc7UfNnj07e/bs6bpt27btjM8IAJTR42tGemrEiBFpb2/vtm3nzp0ZOHBghg0bdtx9qqurU11dfaZHAwDOAmf8yEhjY2PWrFnTbdsLL7yQCRMmZNCgQWf66QGAs1yPY+S9997L5s2bs3nz5iQf/Oru5s2b09ramuSDUyzTp0/vWj9jxoy88847aWlpyZYtW7JkyZIsXrw4s2bNOj2vAADo03p8mmbjxo255ZZbuu63tLQkSe69994sXbo0bW1tXWGSJKNHj86qVasyc+bMfPvb387IkSOzcOFCv9YLACQ5hRi5+eabuy5APZ6lS5ces+2mm27K66+/3tOnAgDOAb6bBgAoSowAAEWJEQCgKDECABQlRgCAosQIAFCUGAEAijrj303DLzl8sPQEAJzNzsH3CTHSy4a88b3SIwDAWcVpGgCgKEdGetneq+9KBvi2YgBO4PDBc+4ouhjpbQMGiREA+AVO0wAARYkRAKAoMQIAFCVGAICixAgAUJQYAQCKEiMAQFFiBAAoSowAAEWJEQCgKDECABQlRgCAosQIAFCUGAEAihIjAEBRYgQAKEqMAABFiREAoCgxAgAUJUYAgKLECABQlBgBAIoSIwBAUWIEAChKjAAARYkRAKAoMQIAFCVGAICixAgAUJQYAQCKEiMAQFFiBAAoSowAAEWJEQCgKDECABQlRgCAosQIAFCUGAEAihIjAEBRYgQAKEqMAABFiREAoCgxAgAUJUYAgKLECABQlBgBAIoSIwBAUWIEAChKjAAARYkRAKAoMQIAFCVGAICixAgAUJQYAQCKEiMAQFFiBAAo6pRi5JFHHsno0aNTU1OT8ePH5+WXXz7h2rVr16aqquqY289+9rNTHhoA6D96HCPLly/Pgw8+mK9+9avZtGlTJk2alObm5rS2tn7ofm+99Vba2tq6br/2a792ykMDAP1Hj2Pkr//6r/O7v/u7+b3f+72MHTs2CxYsSENDQx599NEP3e/iiy/OiBEjum4DBgw45aEBgP6jRzFy4MCBvPbaa2lqauq2vampKa+88sqH7nvttdemvr4+kydPzksvvfShazs7O9PR0dHtBgD0Tz2KkV27duXw4cOpq6vrtr2uri7t7e3H3ae+vj6PPfZYVqxYkZUrV2bMmDGZPHly1q9ff8LnmTt3bmpra7tuDQ0NPRkTAOhDBp7KTlVVVd3uVyqVY7YdNWbMmIwZM6brfmNjY7Zt25b58+fnxhtvPO4+s2fPTktLS9f9jo4OQQIA/VSPjowMHz48AwYMOOYoyM6dO485WvJhrr/++rz99tsn/Hl1dXWGDh3a7QYA9E89ipHzzz8/48ePz5o1a7ptX7NmTSZOnPiRH2fTpk2pr6/vyVMDAP1Uj0/TtLS05J577smECRPS2NiYxx57LK2trZkxY0aSD06xbN++PU888USSZMGCBbnsssty5ZVX5sCBA3nyySezYsWKrFix4vS+EgCgT+pxjNx5553ZvXt3Hn744bS1tWXcuHFZtWpVLr300iRJW1tbt88cOXDgQGbNmpXt27dn8ODBufLKK/Pcc89lypQpp+9VAAB9VlWlUqmUHuJkOjo6Ultbmz179vTJ60f279+f5ubmJMne6+5JBgwqPBEAZ63DBzPk9b9LkqxevTqDBw8uPNCp+6jv376bBgAoSowAAEWJEQCgKDECABQlRgCAosQIAFCUGAEAihIjAEBRYgQAKEqMAABFiREAoCgxAgAUJUYAgKLECABQlBgBAIoSIwBAUWIEAChKjAAARYkRAKAoMQIAFCVGAICixAgAUJQYAQCKEiMAQFFiBAAoSowAAEWJEQCgKDECABQlRgCAosQIAFCUGAEAihIjAEBRYgQAKEqMAABFiREAoCgxAgAUJUYAgKLECABQlBgBAIoSIwBAUWIEAChKjAAARYkRAKAoMQIAFCVGAICixAgAUJQYAQCKEiMAQFFiBAAoSowAAEWJEQCgKDECABQlRgCAosQIAFCUGAEAihIjAEBRYgQAKEqMAABFiREAoCgxAgAUJUYAgKLECABQlBgBAIoSIwBAUWIEAChKjAAARYkRAKAoMQIAFCVGAICiTilGHnnkkYwePTo1NTUZP358Xn755Q9dv27duowfPz41NTW5/PLLs2jRolMaFgDofwb2dIfly5fnwQcfzCOPPJJPf/rT+c53vpPm5ub89Kc/zahRo45Zv3Xr1kyZMiVf+MIX8uSTT+aHP/xhfv/3fz+f+MQnMm3atNPyIvqSqiOHUik9xLmuUkmOHCo9BZy9zhuYVFWVnuKcVXUO/v1UValUevTe+KlPfSrXXXddHn300a5tY8eOze233565c+ces/7LX/5ynn322WzZsqVr24wZM/LGG29kw4YNx32Ozs7OdHZ2dt3v6OhIQ0ND9uzZk6FDh/Zk3LPC/v3709zcXHoMAPqY1atXZ/DgwaXHOGUdHR2pra096ft3j07THDhwIK+99lqampq6bW9qasorr7xy3H02bNhwzPpbb701GzduzMGDB4+7z9y5c1NbW9t1a2ho6MmYAEAf0qPTNLt27crhw4dTV1fXbXtdXV3a29uPu097e/tx1x86dCi7du1KfX39MfvMnj07LS0tXfePHhnpq2pqarJ69erSY/A/KpVKtyNvQHfV1dWpcprmrFBTU1N6hF7R42tGkhzzL2mlUvnQf3GPt/5424+qrq5OdXX1qYx2VqqqqurTh9n6owsuuKD0CAD8jx6dphk+fHgGDBhwzFGQnTt3HnP046gRI0Ycd/3AgQMzbNiwHo4LAPQ3PYqR888/P+PHj8+aNWu6bV+zZk0mTpx43H0aGxuPWf/CCy9kwoQJGTRoUA/HBQD6mx5/zkhLS0u++93vZsmSJdmyZUtmzpyZ1tbWzJgxI8kH13tMnz69a/2MGTPyzjvvpKWlJVu2bMmSJUuyePHizJo16/S9CgCgz+rxNSN33nlndu/enYcffjhtbW0ZN25cVq1alUsvvTRJ0tbWltbW1q71o0ePzqpVqzJz5sx8+9vfzsiRI7Nw4cJz8jNGAIBj9fhzRkr4qL+nDACcPc7I54wAAJxuYgQAKEqMAABFiREAoCgxAgAUJUYAgKLECABQlBgBAIo6pW/t7W1HP5eto6Oj8CQAwEd19H37ZJ+v2idiZO/evUmShoaGwpMAAD21d+/e1NbWnvDnfeLj4I8cOZIdO3ZkyJAhqaqqKj0OcBp1dHSkoaEh27Zt83UP0M9UKpXs3bs3I0eOzHnnnfjKkD4RI0D/5bunABewAgBFiREAoCgxAhRVXV2dOXPmpLq6uvQoQCGuGQEAinJkBAAoSowAAEWJEQCgKDECABQlRgCAosQIUMwjjzyS0aNHp6amJuPHj8/LL79ceiSgADECFLF8+fI8+OCD+epXv5pNmzZl0qRJaW5uTmtra+nRgF7mc0aAIj71qU/luuuuy6OPPtq1bezYsbn99tszd+7cgpMBvc2REaDXHThwIK+99lqampq6bW9qasorr7xSaCqgFDEC9Lpdu3bl8OHDqaur67a9rq4u7e3thaYCShEjQDFVVVXd7lcqlWO2Af2fGAF63fDhwzNgwIBjjoLs3LnzmKMlQP8nRoBed/7552f8+PFZs2ZNt+1r1qzJxIkTC00FlDKw9ADAuamlpSX33HNPJkyYkMbGxjz22GNpbW3NjBkzSo8G9DIxAhRx5513Zvfu3Xn44YfT1taWcePGZdWqVbn00ktLjwb0Mp8zAgAU5ZoRAKAoMQIAFCVGAICixAgAUJQYAQCKEiMAQFFiBAAoSowAAEWJEQCgKDECABQlRgCAov4/VAPzi9cFyYUAAAAASUVORK5CYII=",
      "text/plain": [
       "<Figure size 640x480 with 1 Axes>"
      ]
     },
     "metadata": {},
     "output_type": "display_data"
    }
   ],
   "source": [
    "srn.boxplot(dataset['Saldo']).set_title('Saldo')"
   ]
  },
  {
   "cell_type": "code",
   "execution_count": 34,
   "metadata": {},
   "outputs": [
    {
     "name": "stderr",
     "output_type": "stream",
     "text": [
      "C:\\Users\\PAI\\AppData\\Local\\Temp\\ipykernel_4316\\3978263718.py:1: UserWarning: \n",
      "\n",
      "`distplot` is a deprecated function and will be removed in seaborn v0.14.0.\n",
      "\n",
      "Please adapt your code to use either `displot` (a figure-level function with\n",
      "similar flexibility) or `histplot` (an axes-level function for histograms).\n",
      "\n",
      "For a guide to updating your code to use the new functions, please see\n",
      "https://gist.github.com/mwaskom/de44147ed2974457ad6372750bbe5751\n",
      "\n",
      "  srn.distplot(dataset['Saldo']).set_title('Saldo')\n",
      "C:\\Users\\PAI\\anaconda3\\Lib\\site-packages\\seaborn\\_oldcore.py:1119: FutureWarning: use_inf_as_na option is deprecated and will be removed in a future version. Convert inf values to NaN before operating instead.\n",
      "  with pd.option_context('mode.use_inf_as_na', True):\n"
     ]
    },
    {
     "data": {
      "text/plain": [
       "Text(0.5, 1.0, 'Saldo')"
      ]
     },
     "execution_count": 34,
     "metadata": {},
     "output_type": "execute_result"
    },
    {
     "data": {
      "image/png": "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",
      "text/plain": [
       "<Figure size 640x480 with 1 Axes>"
      ]
     },
     "metadata": {},
     "output_type": "display_data"
    }
   ],
   "source": [
    "srn.distplot(dataset['Saldo']).set_title('Saldo')"
   ]
  },
  {
   "cell_type": "code",
   "execution_count": 35,
   "metadata": {},
   "outputs": [
    {
     "data": {
      "text/plain": [
       "count    9.920000e+02\n",
       "mean     3.528762e+07\n",
       "std      5.305800e+08\n",
       "min      9.677000e+03\n",
       "25%      3.029011e+06\n",
       "50%      8.703250e+06\n",
       "75%      1.405213e+07\n",
       "max      1.193469e+10\n",
       "Name: Salario, dtype: float64"
      ]
     },
     "execution_count": 35,
     "metadata": {},
     "output_type": "execute_result"
    }
   ],
   "source": [
    "#salário\n",
    "dataset['Salario'].describe()"
   ]
  },
  {
   "cell_type": "code",
   "execution_count": 39,
   "metadata": {},
   "outputs": [
    {
     "data": {
      "text/plain": [
       "Text(0.5, 1.0, 'Salario')"
      ]
     },
     "execution_count": 39,
     "metadata": {},
     "output_type": "execute_result"
    },
    {
     "data": {
      "image/png": "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",
      "text/plain": [
       "<Figure size 640x480 with 1 Axes>"
      ]
     },
     "metadata": {},
     "output_type": "display_data"
    }
   ],
   "source": [
    "srn.boxplot(dataset['Salario']).set_title('Salario')"
   ]
  },
  {
   "cell_type": "code",
   "execution_count": 40,
   "metadata": {},
   "outputs": [
    {
     "name": "stderr",
     "output_type": "stream",
     "text": [
      "C:\\Users\\PAI\\AppData\\Local\\Temp\\ipykernel_4316\\108073612.py:1: UserWarning: \n",
      "\n",
      "`distplot` is a deprecated function and will be removed in seaborn v0.14.0.\n",
      "\n",
      "Please adapt your code to use either `displot` (a figure-level function with\n",
      "similar flexibility) or `histplot` (an axes-level function for histograms).\n",
      "\n",
      "For a guide to updating your code to use the new functions, please see\n",
      "https://gist.github.com/mwaskom/de44147ed2974457ad6372750bbe5751\n",
      "\n",
      "  srn.distplot(dataset['Salario']).set_title('Salario')\n",
      "C:\\Users\\PAI\\anaconda3\\Lib\\site-packages\\seaborn\\_oldcore.py:1119: FutureWarning: use_inf_as_na option is deprecated and will be removed in a future version. Convert inf values to NaN before operating instead.\n",
      "  with pd.option_context('mode.use_inf_as_na', True):\n"
     ]
    },
    {
     "data": {
      "text/plain": [
       "Text(0.5, 1.0, 'Salario')"
      ]
     },
     "execution_count": 40,
     "metadata": {},
     "output_type": "execute_result"
    },
    {
     "data": {
      "image/png": "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",
      "text/plain": [
       "<Figure size 640x480 with 1 Axes>"
      ]
     },
     "metadata": {},
     "output_type": "display_data"
    }
   ],
   "source": [
    "srn.distplot(dataset['Salario']).set_title('Salario')"
   ]
  },
  {
   "cell_type": "code",
   "execution_count": 41,
   "metadata": {},
   "outputs": [
    {
     "data": {
      "text/plain": [
       "Id                0\n",
       "Score             0\n",
       "Estado            0\n",
       "Genero            8\n",
       "Idade             0\n",
       "Patrimonio        0\n",
       "Saldo             0\n",
       "Produtos          0\n",
       "TemCartCredito    0\n",
       "Ativo             0\n",
       "Salario           7\n",
       "Saiu              0\n",
       "dtype: int64"
      ]
     },
     "execution_count": 41,
     "metadata": {},
     "output_type": "execute_result"
    }
   ],
   "source": [
    "#contamos valores NAN\n",
    "#genero e salário\n",
    "dataset.isnull().sum()"
   ]
  },
  {
   "cell_type": "code",
   "execution_count": 42,
   "metadata": {},
   "outputs": [
    {
     "data": {
      "text/plain": [
       "count    9.920000e+02\n",
       "mean     3.528762e+07\n",
       "std      5.305800e+08\n",
       "min      9.677000e+03\n",
       "25%      3.029011e+06\n",
       "50%      8.703250e+06\n",
       "75%      1.405213e+07\n",
       "max      1.193469e+10\n",
       "Name: Salario, dtype: float64"
      ]
     },
     "execution_count": 42,
     "metadata": {},
     "output_type": "execute_result"
    }
   ],
   "source": [
    "#salarios\n",
    "#remover nas e substiutir pela mediana\n",
    "dataset['Salario'].describe()"
   ]
  },
  {
   "cell_type": "code",
   "execution_count": 43,
   "metadata": {},
   "outputs": [
    {
     "data": {
      "text/plain": [
       "70518.0"
      ]
     },
     "execution_count": 43,
     "metadata": {},
     "output_type": "execute_result"
    }
   ],
   "source": [
    "mediana = sts.median(dataset['Salario'])\n",
    "mediana"
   ]
  },
  {
   "cell_type": "code",
   "execution_count": 44,
   "metadata": {},
   "outputs": [],
   "source": [
    "#substituir NAN por mediana\n",
    "dataset['Salario'].fillna(mediana, inplace=True)"
   ]
  },
  {
   "cell_type": "code",
   "execution_count": 45,
   "metadata": {},
   "outputs": [
    {
     "data": {
      "text/plain": [
       "0"
      ]
     },
     "execution_count": 45,
     "metadata": {},
     "output_type": "execute_result"
    }
   ],
   "source": [
    "#Verificamos se NAN não existem mais\n",
    "dataset['Salario'].isnull().sum()"
   ]
  },
  {
   "cell_type": "code",
   "execution_count": 46,
   "metadata": {},
   "outputs": [
    {
     "data": {
      "text/plain": [
       "Genero\n",
       "F              2\n",
       "Fem            1\n",
       "Feminino     461\n",
       "M              6\n",
       "Masculino    521\n",
       "dtype: int64"
      ]
     },
     "execution_count": 46,
     "metadata": {},
     "output_type": "execute_result"
    }
   ],
   "source": [
    "#genero, falta de padronização e NAs\n",
    "agrupado = dataset.groupby(['Genero']).size()\n",
    "agrupado"
   ]
  },
  {
   "cell_type": "code",
   "execution_count": 47,
   "metadata": {},
   "outputs": [
    {
     "data": {
      "text/plain": [
       "8"
      ]
     },
     "execution_count": 47,
     "metadata": {},
     "output_type": "execute_result"
    }
   ],
   "source": [
    "#total de Nas\n",
    "dataset['Genero'].isnull().sum()"
   ]
  },
  {
   "cell_type": "code",
   "execution_count": 48,
   "metadata": {},
   "outputs": [],
   "source": [
    "#preenche NAs com Masculino (moda)\n",
    "dataset['Genero'].fillna('Masculino', inplace=True)"
   ]
  },
  {
   "cell_type": "code",
   "execution_count": 49,
   "metadata": {},
   "outputs": [
    {
     "data": {
      "text/plain": [
       "0"
      ]
     },
     "execution_count": 49,
     "metadata": {},
     "output_type": "execute_result"
    }
   ],
   "source": [
    "#verificamos novamente NANs\n",
    "dataset['Genero'].isnull().sum()"
   ]
  },
  {
   "cell_type": "code",
   "execution_count": 60,
   "metadata": {},
   "outputs": [
    {
     "data": {
      "text/plain": [
       "Genero\n",
       "Feminino     464\n",
       "Masculino    535\n",
       "dtype: int64"
      ]
     },
     "execution_count": 60,
     "metadata": {},
     "output_type": "execute_result"
    }
   ],
   "source": [
    "#padroniza de acordo com o dominio\n",
    "dataset.loc[dataset['Genero'] ==  'M', 'Genero'] = \"Masculino\"\n",
    "dataset.loc[dataset['Genero'].isin( ['Fem','F']), 'Genero'] = \"Feminino\"\n",
    "#visualiza o resultado\n",
    "agrupado = dataset.groupby(['Genero']).size()\n",
    "agrupado"
   ]
  },
  {
   "cell_type": "code",
   "execution_count": null,
   "metadata": {},
   "outputs": [],
   "source": [
    "#idades fora do dominio\n",
    "dataset['Idade'].describe()"
   ]
  },
  {
   "cell_type": "code",
   "execution_count": 66,
   "metadata": {},
   "outputs": [
    {
     "data": {
      "text/html": [
       "<div>\n",
       "<style scoped>\n",
       "    .dataframe tbody tr th:only-of-type {\n",
       "        vertical-align: middle;\n",
       "    }\n",
       "\n",
       "    .dataframe tbody tr th {\n",
       "        vertical-align: top;\n",
       "    }\n",
       "\n",
       "    .dataframe thead th {\n",
       "        text-align: right;\n",
       "    }\n",
       "</style>\n",
       "<table border=\"1\" class=\"dataframe\">\n",
       "  <thead>\n",
       "    <tr style=\"text-align: right;\">\n",
       "      <th></th>\n",
       "      <th>Id</th>\n",
       "      <th>Score</th>\n",
       "      <th>Estado</th>\n",
       "      <th>Genero</th>\n",
       "      <th>Idade</th>\n",
       "      <th>Patrimonio</th>\n",
       "      <th>Saldo</th>\n",
       "      <th>Produtos</th>\n",
       "      <th>TemCartCredito</th>\n",
       "      <th>Ativo</th>\n",
       "      <th>Salario</th>\n",
       "      <th>Saiu</th>\n",
       "    </tr>\n",
       "  </thead>\n",
       "  <tbody>\n",
       "    <tr>\n",
       "      <th>851</th>\n",
       "      <td>853</td>\n",
       "      <td>667</td>\n",
       "      <td>PR</td>\n",
       "      <td>Feminino</td>\n",
       "      <td>0</td>\n",
       "      <td>1</td>\n",
       "      <td>9713392</td>\n",
       "      <td>2</td>\n",
       "      <td>0</td>\n",
       "      <td>0</td>\n",
       "      <td>11331677.0</td>\n",
       "      <td>1</td>\n",
       "    </tr>\n",
       "    <tr>\n",
       "      <th>867</th>\n",
       "      <td>869</td>\n",
       "      <td>636</td>\n",
       "      <td>RS</td>\n",
       "      <td>Feminino</td>\n",
       "      <td>-10</td>\n",
       "      <td>1</td>\n",
       "      <td>17083346</td>\n",
       "      <td>1</td>\n",
       "      <td>1</td>\n",
       "      <td>0</td>\n",
       "      <td>11051028.0</td>\n",
       "      <td>1</td>\n",
       "    </tr>\n",
       "    <tr>\n",
       "      <th>887</th>\n",
       "      <td>889</td>\n",
       "      <td>585</td>\n",
       "      <td>RS</td>\n",
       "      <td>Masculino</td>\n",
       "      <td>0</td>\n",
       "      <td>2</td>\n",
       "      <td>0</td>\n",
       "      <td>2</td>\n",
       "      <td>1</td>\n",
       "      <td>1</td>\n",
       "      <td>1865777.0</td>\n",
       "      <td>0</td>\n",
       "    </tr>\n",
       "    <tr>\n",
       "      <th>930</th>\n",
       "      <td>932</td>\n",
       "      <td>661</td>\n",
       "      <td>SC</td>\n",
       "      <td>Masculino</td>\n",
       "      <td>0</td>\n",
       "      <td>6</td>\n",
       "      <td>13262898</td>\n",
       "      <td>1</td>\n",
       "      <td>0</td>\n",
       "      <td>0</td>\n",
       "      <td>3881267.0</td>\n",
       "      <td>0</td>\n",
       "    </tr>\n",
       "    <tr>\n",
       "      <th>931</th>\n",
       "      <td>933</td>\n",
       "      <td>564</td>\n",
       "      <td>PR</td>\n",
       "      <td>Masculino</td>\n",
       "      <td>0</td>\n",
       "      <td>9</td>\n",
       "      <td>10352275</td>\n",
       "      <td>2</td>\n",
       "      <td>1</td>\n",
       "      <td>1</td>\n",
       "      <td>3433821.0</td>\n",
       "      <td>0</td>\n",
       "    </tr>\n",
       "    <tr>\n",
       "      <th>947</th>\n",
       "      <td>949</td>\n",
       "      <td>715</td>\n",
       "      <td>RS</td>\n",
       "      <td>Feminino</td>\n",
       "      <td>0</td>\n",
       "      <td>5</td>\n",
       "      <td>11859041</td>\n",
       "      <td>1</td>\n",
       "      <td>1</td>\n",
       "      <td>1</td>\n",
       "      <td>568417.0</td>\n",
       "      <td>1</td>\n",
       "    </tr>\n",
       "    <tr>\n",
       "      <th>984</th>\n",
       "      <td>986</td>\n",
       "      <td>773</td>\n",
       "      <td>RS</td>\n",
       "      <td>Masculino</td>\n",
       "      <td>-20</td>\n",
       "      <td>1</td>\n",
       "      <td>12453278</td>\n",
       "      <td>2</td>\n",
       "      <td>0</td>\n",
       "      <td>1</td>\n",
       "      <td>1172357.0</td>\n",
       "      <td>0</td>\n",
       "    </tr>\n",
       "    <tr>\n",
       "      <th>990</th>\n",
       "      <td>992</td>\n",
       "      <td>655</td>\n",
       "      <td>RS</td>\n",
       "      <td>Masculino</td>\n",
       "      <td>140</td>\n",
       "      <td>5</td>\n",
       "      <td>93147</td>\n",
       "      <td>2</td>\n",
       "      <td>1</td>\n",
       "      <td>0</td>\n",
       "      <td>6621413.0</td>\n",
       "      <td>0</td>\n",
       "    </tr>\n",
       "  </tbody>\n",
       "</table>\n",
       "</div>"
      ],
      "text/plain": [
       "      Id  Score Estado     Genero  Idade  Patrimonio     Saldo  Produtos  \\\n",
       "851  853    667     PR   Feminino      0           1   9713392         2   \n",
       "867  869    636     RS   Feminino    -10           1  17083346         1   \n",
       "887  889    585     RS  Masculino      0           2         0         2   \n",
       "930  932    661     SC  Masculino      0           6  13262898         1   \n",
       "931  933    564     PR  Masculino      0           9  10352275         2   \n",
       "947  949    715     RS   Feminino      0           5  11859041         1   \n",
       "984  986    773     RS  Masculino    -20           1  12453278         2   \n",
       "990  992    655     RS  Masculino    140           5     93147         2   \n",
       "\n",
       "     TemCartCredito  Ativo     Salario  Saiu  \n",
       "851               0      0  11331677.0     1  \n",
       "867               1      0  11051028.0     1  \n",
       "887               1      1   1865777.0     0  \n",
       "930               0      0   3881267.0     0  \n",
       "931               1      1   3433821.0     0  \n",
       "947               1      1    568417.0     1  \n",
       "984               0      1   1172357.0     0  \n",
       "990               1      0   6621413.0     0  "
      ]
     },
     "execution_count": 66,
     "metadata": {},
     "output_type": "execute_result"
    }
   ],
   "source": [
    "#visualizar \n",
    "dataset.loc[(dataset['Idade'] <  17 )  | ( dataset['Idade'] >  100) ]"
   ]
  },
  {
   "cell_type": "code",
   "execution_count": 67,
   "metadata": {},
   "outputs": [
    {
     "data": {
      "text/plain": [
       "37"
      ]
     },
     "execution_count": 67,
     "metadata": {},
     "output_type": "execute_result"
    }
   ],
   "source": [
    "#calular a mediana\n",
    "mediana = sts.median(dataset['Idade'])\n",
    "mediana"
   ]
  },
  {
   "cell_type": "code",
   "execution_count": 68,
   "metadata": {},
   "outputs": [],
   "source": [
    "#substituir\n",
    "dataset.loc[(dataset['Idade'] <  17 )  | ( dataset['Idade'] >  100), 'Idade'] = mediana"
   ]
  },
  {
   "cell_type": "code",
   "execution_count": 69,
   "metadata": {},
   "outputs": [
    {
     "data": {
      "text/html": [
       "<div>\n",
       "<style scoped>\n",
       "    .dataframe tbody tr th:only-of-type {\n",
       "        vertical-align: middle;\n",
       "    }\n",
       "\n",
       "    .dataframe tbody tr th {\n",
       "        vertical-align: top;\n",
       "    }\n",
       "\n",
       "    .dataframe thead th {\n",
       "        text-align: right;\n",
       "    }\n",
       "</style>\n",
       "<table border=\"1\" class=\"dataframe\">\n",
       "  <thead>\n",
       "    <tr style=\"text-align: right;\">\n",
       "      <th></th>\n",
       "      <th>Id</th>\n",
       "      <th>Score</th>\n",
       "      <th>Estado</th>\n",
       "      <th>Genero</th>\n",
       "      <th>Idade</th>\n",
       "      <th>Patrimonio</th>\n",
       "      <th>Saldo</th>\n",
       "      <th>Produtos</th>\n",
       "      <th>TemCartCredito</th>\n",
       "      <th>Ativo</th>\n",
       "      <th>Salario</th>\n",
       "      <th>Saiu</th>\n",
       "    </tr>\n",
       "  </thead>\n",
       "  <tbody>\n",
       "  </tbody>\n",
       "</table>\n",
       "</div>"
      ],
      "text/plain": [
       "Empty DataFrame\n",
       "Columns: [Id, Score, Estado, Genero, Idade, Patrimonio, Saldo, Produtos, TemCartCredito, Ativo, Salario, Saiu]\n",
       "Index: []"
      ]
     },
     "execution_count": 69,
     "metadata": {},
     "output_type": "execute_result"
    }
   ],
   "source": [
    "#verificamos se ainda existem idades fora do domínio\n",
    "dataset.loc[(dataset['Idade'] <  17 )  | ( dataset['Idade'] >  100) ]"
   ]
  },
  {
   "cell_type": "code",
   "execution_count": 70,
   "metadata": {},
   "outputs": [
    {
     "data": {
      "text/html": [
       "<div>\n",
       "<style scoped>\n",
       "    .dataframe tbody tr th:only-of-type {\n",
       "        vertical-align: middle;\n",
       "    }\n",
       "\n",
       "    .dataframe tbody tr th {\n",
       "        vertical-align: top;\n",
       "    }\n",
       "\n",
       "    .dataframe thead th {\n",
       "        text-align: right;\n",
       "    }\n",
       "</style>\n",
       "<table border=\"1\" class=\"dataframe\">\n",
       "  <thead>\n",
       "    <tr style=\"text-align: right;\">\n",
       "      <th></th>\n",
       "      <th>Id</th>\n",
       "      <th>Score</th>\n",
       "      <th>Estado</th>\n",
       "      <th>Genero</th>\n",
       "      <th>Idade</th>\n",
       "      <th>Patrimonio</th>\n",
       "      <th>Saldo</th>\n",
       "      <th>Produtos</th>\n",
       "      <th>TemCartCredito</th>\n",
       "      <th>Ativo</th>\n",
       "      <th>Salario</th>\n",
       "      <th>Saiu</th>\n",
       "    </tr>\n",
       "  </thead>\n",
       "  <tbody>\n",
       "    <tr>\n",
       "      <th>80</th>\n",
       "      <td>81</td>\n",
       "      <td>665</td>\n",
       "      <td>RS</td>\n",
       "      <td>Feminino</td>\n",
       "      <td>34</td>\n",
       "      <td>1</td>\n",
       "      <td>9664554</td>\n",
       "      <td>2</td>\n",
       "      <td>0</td>\n",
       "      <td>0</td>\n",
       "      <td>17141366.0</td>\n",
       "      <td>0</td>\n",
       "    </tr>\n",
       "    <tr>\n",
       "      <th>81</th>\n",
       "      <td>81</td>\n",
       "      <td>665</td>\n",
       "      <td>RS</td>\n",
       "      <td>Feminino</td>\n",
       "      <td>34</td>\n",
       "      <td>1</td>\n",
       "      <td>9664554</td>\n",
       "      <td>2</td>\n",
       "      <td>0</td>\n",
       "      <td>0</td>\n",
       "      <td>17141366.0</td>\n",
       "      <td>0</td>\n",
       "    </tr>\n",
       "  </tbody>\n",
       "</table>\n",
       "</div>"
      ],
      "text/plain": [
       "    Id  Score Estado    Genero  Idade  Patrimonio    Saldo  Produtos  \\\n",
       "80  81    665     RS  Feminino     34           1  9664554         2   \n",
       "81  81    665     RS  Feminino     34           1  9664554         2   \n",
       "\n",
       "    TemCartCredito  Ativo     Salario  Saiu  \n",
       "80               0      0  17141366.0     0  \n",
       "81               0      0  17141366.0     0  "
      ]
     },
     "execution_count": 70,
     "metadata": {},
     "output_type": "execute_result"
    }
   ],
   "source": [
    "#dados duplicados, buscamos pelo ID\n",
    "dataset[dataset.duplicated(['Id'],keep=False)]"
   ]
  },
  {
   "cell_type": "code",
   "execution_count": 72,
   "metadata": {},
   "outputs": [
    {
     "data": {
      "text/html": [
       "<div>\n",
       "<style scoped>\n",
       "    .dataframe tbody tr th:only-of-type {\n",
       "        vertical-align: middle;\n",
       "    }\n",
       "\n",
       "    .dataframe tbody tr th {\n",
       "        vertical-align: top;\n",
       "    }\n",
       "\n",
       "    .dataframe thead th {\n",
       "        text-align: right;\n",
       "    }\n",
       "</style>\n",
       "<table border=\"1\" class=\"dataframe\">\n",
       "  <thead>\n",
       "    <tr style=\"text-align: right;\">\n",
       "      <th></th>\n",
       "      <th>Id</th>\n",
       "      <th>Score</th>\n",
       "      <th>Estado</th>\n",
       "      <th>Genero</th>\n",
       "      <th>Idade</th>\n",
       "      <th>Patrimonio</th>\n",
       "      <th>Saldo</th>\n",
       "      <th>Produtos</th>\n",
       "      <th>TemCartCredito</th>\n",
       "      <th>Ativo</th>\n",
       "      <th>Salario</th>\n",
       "      <th>Saiu</th>\n",
       "    </tr>\n",
       "  </thead>\n",
       "  <tbody>\n",
       "  </tbody>\n",
       "</table>\n",
       "</div>"
      ],
      "text/plain": [
       "Empty DataFrame\n",
       "Columns: [Id, Score, Estado, Genero, Idade, Patrimonio, Saldo, Produtos, TemCartCredito, Ativo, Salario, Saiu]\n",
       "Index: []"
      ]
     },
     "execution_count": 72,
     "metadata": {},
     "output_type": "execute_result"
    }
   ],
   "source": [
    "#exclui so pelo ID\n",
    "dataset.drop_duplicates(subset=\"Id\", keep='first',inplace=True)\n",
    "#buscamos duplicados \n",
    "dataset[dataset.duplicated(['Id'],keep=False)]"
   ]
  },
  {
   "cell_type": "code",
   "execution_count": null,
   "metadata": {},
   "outputs": [],
   "source": [
    "#estado foram do domínio\n",
    "agrupado = dataset.groupby(['Estado']).size()\n",
    "agrupado"
   ]
  },
  {
   "cell_type": "code",
   "execution_count": 73,
   "metadata": {},
   "outputs": [],
   "source": [
    "#atribuomos RS ou PR\n",
    "dataset.loc[dataset['Estado'].isin( ['SP','TD']), 'Estado'] = \"RS\"\n",
    "dataset.loc[dataset['Estado'].isin( ['RP']), 'Estado'] = \"PR\"\n",
    "agrupado = dataset.groupby(['Estado']).size()"
   ]
  },
  {
   "cell_type": "code",
   "execution_count": 74,
   "metadata": {},
   "outputs": [
    {
     "data": {
      "text/plain": [
       "Estado\n",
       "PR    258\n",
       "RS    482\n",
       "SC    258\n",
       "dtype: int64"
      ]
     },
     "execution_count": 74,
     "metadata": {},
     "output_type": "execute_result"
    }
   ],
   "source": [
    "#verificamos o resultado\n",
    "agrupado"
   ]
  },
  {
   "cell_type": "code",
   "execution_count": 75,
   "metadata": {},
   "outputs": [
    {
     "data": {
      "text/plain": [
       "528988918.4679201"
      ]
     },
     "execution_count": 75,
     "metadata": {},
     "output_type": "execute_result"
    }
   ],
   "source": [
    "#outliers em salário, vamos considerar 2 desvios padrão\n",
    "desv = sts.stdev(dataset['Salario'])\n",
    "desv"
   ]
  },
  {
   "cell_type": "code",
   "execution_count": 76,
   "metadata": {},
   "outputs": [
    {
     "data": {
      "text/html": [
       "<div>\n",
       "<style scoped>\n",
       "    .dataframe tbody tr th:only-of-type {\n",
       "        vertical-align: middle;\n",
       "    }\n",
       "\n",
       "    .dataframe tbody tr th {\n",
       "        vertical-align: top;\n",
       "    }\n",
       "\n",
       "    .dataframe thead th {\n",
       "        text-align: right;\n",
       "    }\n",
       "</style>\n",
       "<table border=\"1\" class=\"dataframe\">\n",
       "  <thead>\n",
       "    <tr style=\"text-align: right;\">\n",
       "      <th></th>\n",
       "      <th>Id</th>\n",
       "      <th>Score</th>\n",
       "      <th>Estado</th>\n",
       "      <th>Genero</th>\n",
       "      <th>Idade</th>\n",
       "      <th>Patrimonio</th>\n",
       "      <th>Saldo</th>\n",
       "      <th>Produtos</th>\n",
       "      <th>TemCartCredito</th>\n",
       "      <th>Ativo</th>\n",
       "      <th>Salario</th>\n",
       "      <th>Saiu</th>\n",
       "    </tr>\n",
       "  </thead>\n",
       "  <tbody>\n",
       "    <tr>\n",
       "      <th>7</th>\n",
       "      <td>8</td>\n",
       "      <td>376</td>\n",
       "      <td>PR</td>\n",
       "      <td>Feminino</td>\n",
       "      <td>29</td>\n",
       "      <td>4</td>\n",
       "      <td>11504674</td>\n",
       "      <td>4</td>\n",
       "      <td>1</td>\n",
       "      <td>0</td>\n",
       "      <td>1.193469e+10</td>\n",
       "      <td>1</td>\n",
       "    </tr>\n",
       "    <tr>\n",
       "      <th>116</th>\n",
       "      <td>118</td>\n",
       "      <td>668</td>\n",
       "      <td>PR</td>\n",
       "      <td>Feminino</td>\n",
       "      <td>37</td>\n",
       "      <td>6</td>\n",
       "      <td>1678644</td>\n",
       "      <td>1</td>\n",
       "      <td>1</td>\n",
       "      <td>0</td>\n",
       "      <td>1.156383e+10</td>\n",
       "      <td>0</td>\n",
       "    </tr>\n",
       "    <tr>\n",
       "      <th>170</th>\n",
       "      <td>172</td>\n",
       "      <td>484</td>\n",
       "      <td>RS</td>\n",
       "      <td>Feminino</td>\n",
       "      <td>29</td>\n",
       "      <td>4</td>\n",
       "      <td>13011439</td>\n",
       "      <td>1</td>\n",
       "      <td>1</td>\n",
       "      <td>0</td>\n",
       "      <td>1.640179e+09</td>\n",
       "      <td>0</td>\n",
       "    </tr>\n",
       "    <tr>\n",
       "      <th>230</th>\n",
       "      <td>232</td>\n",
       "      <td>673</td>\n",
       "      <td>RS</td>\n",
       "      <td>Masculino</td>\n",
       "      <td>72</td>\n",
       "      <td>1</td>\n",
       "      <td>0</td>\n",
       "      <td>2</td>\n",
       "      <td>0</td>\n",
       "      <td>1</td>\n",
       "      <td>1.119812e+09</td>\n",
       "      <td>0</td>\n",
       "    </tr>\n",
       "  </tbody>\n",
       "</table>\n",
       "</div>"
      ],
      "text/plain": [
       "      Id  Score Estado     Genero  Idade  Patrimonio     Saldo  Produtos  \\\n",
       "7      8    376     PR   Feminino     29           4  11504674         4   \n",
       "116  118    668     PR   Feminino     37           6   1678644         1   \n",
       "170  172    484     RS   Feminino     29           4  13011439         1   \n",
       "230  232    673     RS  Masculino     72           1         0         2   \n",
       "\n",
       "     TemCartCredito  Ativo       Salario  Saiu  \n",
       "7                 1      0  1.193469e+10     1  \n",
       "116               1      0  1.156383e+10     0  \n",
       "170               1      0  1.640179e+09     0  \n",
       "230               0      1  1.119812e+09     0  "
      ]
     },
     "execution_count": 76,
     "metadata": {},
     "output_type": "execute_result"
    }
   ],
   "source": [
    "#definir padrão como maior que 2 desvios padrão\n",
    "#checamos se algum atende critério\n",
    "dataset.loc[dataset['Salario'] >=  2 * desv ] "
   ]
  },
  {
   "cell_type": "code",
   "execution_count": 77,
   "metadata": {},
   "outputs": [
    {
     "data": {
      "text/plain": [
       "8637195.5"
      ]
     },
     "execution_count": 77,
     "metadata": {},
     "output_type": "execute_result"
    }
   ],
   "source": [
    "#vamos atualiar salarios para mediana, calculamos\n",
    "mediana = sts.median(dataset['Salario'])\n",
    "mediana"
   ]
  },
  {
   "cell_type": "code",
   "execution_count": 78,
   "metadata": {},
   "outputs": [
    {
     "data": {
      "text/html": [
       "<div>\n",
       "<style scoped>\n",
       "    .dataframe tbody tr th:only-of-type {\n",
       "        vertical-align: middle;\n",
       "    }\n",
       "\n",
       "    .dataframe tbody tr th {\n",
       "        vertical-align: top;\n",
       "    }\n",
       "\n",
       "    .dataframe thead th {\n",
       "        text-align: right;\n",
       "    }\n",
       "</style>\n",
       "<table border=\"1\" class=\"dataframe\">\n",
       "  <thead>\n",
       "    <tr style=\"text-align: right;\">\n",
       "      <th></th>\n",
       "      <th>Id</th>\n",
       "      <th>Score</th>\n",
       "      <th>Estado</th>\n",
       "      <th>Genero</th>\n",
       "      <th>Idade</th>\n",
       "      <th>Patrimonio</th>\n",
       "      <th>Saldo</th>\n",
       "      <th>Produtos</th>\n",
       "      <th>TemCartCredito</th>\n",
       "      <th>Ativo</th>\n",
       "      <th>Salario</th>\n",
       "      <th>Saiu</th>\n",
       "    </tr>\n",
       "  </thead>\n",
       "  <tbody>\n",
       "  </tbody>\n",
       "</table>\n",
       "</div>"
      ],
      "text/plain": [
       "Empty DataFrame\n",
       "Columns: [Id, Score, Estado, Genero, Idade, Patrimonio, Saldo, Produtos, TemCartCredito, Ativo, Salario, Saiu]\n",
       "Index: []"
      ]
     },
     "execution_count": 78,
     "metadata": {},
     "output_type": "execute_result"
    }
   ],
   "source": [
    "#atribumos\n",
    "dataset.loc[dataset['Salario'] >=  2 * desv, 'Salario'] = mediana\n",
    "#checamos se algum atende critério\n",
    "dataset.loc[dataset['Salario'] >=  2 * desv ] "
   ]
  },
  {
   "cell_type": "code",
   "execution_count": 79,
   "metadata": {},
   "outputs": [
    {
     "data": {
      "text/html": [
       "<div>\n",
       "<style scoped>\n",
       "    .dataframe tbody tr th:only-of-type {\n",
       "        vertical-align: middle;\n",
       "    }\n",
       "\n",
       "    .dataframe tbody tr th {\n",
       "        vertical-align: top;\n",
       "    }\n",
       "\n",
       "    .dataframe thead th {\n",
       "        text-align: right;\n",
       "    }\n",
       "</style>\n",
       "<table border=\"1\" class=\"dataframe\">\n",
       "  <thead>\n",
       "    <tr style=\"text-align: right;\">\n",
       "      <th></th>\n",
       "      <th>Id</th>\n",
       "      <th>Score</th>\n",
       "      <th>Estado</th>\n",
       "      <th>Genero</th>\n",
       "      <th>Idade</th>\n",
       "      <th>Patrimonio</th>\n",
       "      <th>Saldo</th>\n",
       "      <th>Produtos</th>\n",
       "      <th>TemCartCredito</th>\n",
       "      <th>Ativo</th>\n",
       "      <th>Salario</th>\n",
       "      <th>Saiu</th>\n",
       "    </tr>\n",
       "  </thead>\n",
       "  <tbody>\n",
       "    <tr>\n",
       "      <th>0</th>\n",
       "      <td>1</td>\n",
       "      <td>619</td>\n",
       "      <td>RS</td>\n",
       "      <td>Feminino</td>\n",
       "      <td>42</td>\n",
       "      <td>2</td>\n",
       "      <td>0</td>\n",
       "      <td>1</td>\n",
       "      <td>1</td>\n",
       "      <td>1</td>\n",
       "      <td>10134888.0</td>\n",
       "      <td>1</td>\n",
       "    </tr>\n",
       "    <tr>\n",
       "      <th>1</th>\n",
       "      <td>2</td>\n",
       "      <td>608</td>\n",
       "      <td>SC</td>\n",
       "      <td>Feminino</td>\n",
       "      <td>41</td>\n",
       "      <td>1</td>\n",
       "      <td>8380786</td>\n",
       "      <td>1</td>\n",
       "      <td>0</td>\n",
       "      <td>1</td>\n",
       "      <td>11254258.0</td>\n",
       "      <td>0</td>\n",
       "    </tr>\n",
       "    <tr>\n",
       "      <th>2</th>\n",
       "      <td>3</td>\n",
       "      <td>502</td>\n",
       "      <td>RS</td>\n",
       "      <td>Feminino</td>\n",
       "      <td>42</td>\n",
       "      <td>8</td>\n",
       "      <td>1596608</td>\n",
       "      <td>3</td>\n",
       "      <td>1</td>\n",
       "      <td>0</td>\n",
       "      <td>11393157.0</td>\n",
       "      <td>1</td>\n",
       "    </tr>\n",
       "    <tr>\n",
       "      <th>3</th>\n",
       "      <td>4</td>\n",
       "      <td>699</td>\n",
       "      <td>RS</td>\n",
       "      <td>Feminino</td>\n",
       "      <td>39</td>\n",
       "      <td>1</td>\n",
       "      <td>0</td>\n",
       "      <td>2</td>\n",
       "      <td>0</td>\n",
       "      <td>0</td>\n",
       "      <td>9382663.0</td>\n",
       "      <td>0</td>\n",
       "    </tr>\n",
       "    <tr>\n",
       "      <th>4</th>\n",
       "      <td>5</td>\n",
       "      <td>850</td>\n",
       "      <td>SC</td>\n",
       "      <td>Feminino</td>\n",
       "      <td>43</td>\n",
       "      <td>2</td>\n",
       "      <td>12551082</td>\n",
       "      <td>1</td>\n",
       "      <td>1</td>\n",
       "      <td>1</td>\n",
       "      <td>790841.0</td>\n",
       "      <td>0</td>\n",
       "    </tr>\n",
       "  </tbody>\n",
       "</table>\n",
       "</div>"
      ],
      "text/plain": [
       "   Id  Score Estado    Genero  Idade  Patrimonio     Saldo  Produtos  \\\n",
       "0   1    619     RS  Feminino     42           2         0         1   \n",
       "1   2    608     SC  Feminino     41           1   8380786         1   \n",
       "2   3    502     RS  Feminino     42           8   1596608         3   \n",
       "3   4    699     RS  Feminino     39           1         0         2   \n",
       "4   5    850     SC  Feminino     43           2  12551082         1   \n",
       "\n",
       "   TemCartCredito  Ativo     Salario  Saiu  \n",
       "0               1      1  10134888.0     1  \n",
       "1               0      1  11254258.0     0  \n",
       "2               1      0  11393157.0     1  \n",
       "3               0      0   9382663.0     0  \n",
       "4               1      1    790841.0     0  "
      ]
     },
     "execution_count": 79,
     "metadata": {},
     "output_type": "execute_result"
    }
   ],
   "source": [
    "dataset.head()"
   ]
  },
  {
   "cell_type": "code",
   "execution_count": 80,
   "metadata": {},
   "outputs": [
    {
     "data": {
      "text/plain": [
       "(998, 12)"
      ]
     },
     "execution_count": 80,
     "metadata": {},
     "output_type": "execute_result"
    }
   ],
   "source": [
    "dataset.shape"
   ]
  },
  {
   "cell_type": "code",
   "execution_count": null,
   "metadata": {},
   "outputs": [],
   "source": []
  }
 ],
 "metadata": {
  "kernelspec": {
   "display_name": "Python 3 (ipykernel)",
   "language": "python",
   "name": "python3"
  },
  "language_info": {
   "codemirror_mode": {
    "name": "ipython",
    "version": 3
   },
   "file_extension": ".py",
   "mimetype": "text/x-python",
   "name": "python",
   "nbconvert_exporter": "python",
   "pygments_lexer": "ipython3",
   "version": "3.11.7"
  }
 },
 "nbformat": 4,
 "nbformat_minor": 4
}
