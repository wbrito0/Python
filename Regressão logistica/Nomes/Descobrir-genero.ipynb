{
 "cells": [
  {
   "cell_type": "code",
   "execution_count": 2,
   "id": "9bddcc3b-0a92-4fdf-8b12-4dcc2e4ec254",
   "metadata": {},
   "outputs": [],
   "source": [
    "# Esse arquivo pode ser executado no jupyterlab ou no google colab\n",
    "# Wesley bispo de brito"
   ]
  },
  {
   "cell_type": "markdown",
   "id": "hsL0wCHYoXVq",
   "metadata": {
    "id": "hsL0wCHYoXVq"
   },
   "source": [
    "Identificar o genêro do nome"
   ]
  },
  {
   "cell_type": "markdown",
   "id": "aq9ah6dioSpi",
   "metadata": {
    "id": "aq9ah6dioSpi"
   },
   "source": [
    "1. Usando uma base com 100.000 nomes identificamos a maior frequência do genero\n",
    "para o nome inputado. 99% de acuracia\n",
    "2. Se não houver registro do nome, um modelo de regressão logistica identifica se o nome é  masculino ou feminino. 93% de acuracia\n",
    "3. 96% de chance de acerto desde que o nome seja PT-BR, não testedo com nome estrangeiros."
   ]
  },
  {
   "cell_type": "markdown",
   "id": "cffceb40-2d7c-4e63-85e7-a174a90f8a55",
   "metadata": {
    "id": "cffceb40-2d7c-4e63-85e7-a174a90f8a55"
   },
   "source": [
    "Melhorias Pendentes."
   ]
  },
  {
   "cell_type": "markdown",
   "id": "zmTeGCV2oNFC",
   "metadata": {
    "id": "zmTeGCV2oNFC"
   },
   "source": [
    "1. Janela amigavel para uso.\n",
    "2. Disponibilidade de uso no google colab"
   ]
  },
  {
   "cell_type": "markdown",
   "id": "e6db9fab-3d42-44d7-85e7-4b71b328087b",
   "metadata": {
    "id": "e6db9fab-3d42-44d7-85e7-4b71b328087b"
   },
   "source": [
    "Instalações do pip:"
   ]
  },
  {
   "cell_type": "code",
   "execution_count": 3,
   "id": "EvOKQhKFnJg8",
   "metadata": {
    "id": "EvOKQhKFnJg8"
   },
   "outputs": [],
   "source": [
    "#!pip install pandas\n",
    "#!pip install unidecode\n",
    "#!pip install tensorflow==2.17.0\n",
    "#!pip install fuzzywuzzy\n",
    "#!pip install gdown"
   ]
  },
  {
   "cell_type": "code",
   "execution_count": 4,
   "id": "fzbuuagjd-zx",
   "metadata": {
    "colab": {
     "base_uri": "https://localhost:8080/"
    },
    "executionInfo": {
     "elapsed": 8260,
     "status": "ok",
     "timestamp": 1721575725691,
     "user": {
      "displayName": "Wesley Bispo de Brito",
      "userId": "15926818868551278124"
     },
     "user_tz": 180
    },
    "id": "fzbuuagjd-zx",
    "outputId": "2627cda5-8f97-49db-c3bd-ba38eee7a51e"
   },
   "outputs": [
    {
     "name": "stderr",
     "output_type": "stream",
     "text": [
      "C:\\Users\\wesley\\anaconda3\\Lib\\site-packages\\fuzzywuzzy\\fuzz.py:11: UserWarning: Using slow pure-python SequenceMatcher. Install python-Levenshtein to remove this warning\n",
      "  warnings.warn('Using slow pure-python SequenceMatcher. Install python-Levenshtein to remove this warning')\n",
      "Downloading...\n",
      "From: https://drive.google.com/uc?id=1_KXXdjcDxVs7M3DN68NwVUxMaN99OaRq\n",
      "To: C:\\Users\\wesley\\Downloads\\ML-genero.h5\n",
      "100%|██████████████████████████████████████████████████████████████████████████████| 55.3k/55.3k [00:00<00:00, 670kB/s]\n",
      "WARNING:absl:Compiled the loaded model, but the compiled metrics have yet to be built. `model.compile_metrics` will be empty until you train or evaluate the model.\n"
     ]
    }
   ],
   "source": [
    "# @title Insira um nome { run: \"auto\" }\n",
    "\n",
    "import sys\n",
    "import gdown\n",
    "import unidecode\n",
    "import pandas as pd\n",
    "import tensorflow as tf\n",
    "from fuzzywuzzy import fuzz\n",
    "from tensorflow.keras.preprocessing.text import Tokenizer\n",
    "from tensorflow.keras.preprocessing.sequence import pad_sequences\n",
    "from tensorflow.keras.models import load_model\n",
    "\n",
    "\n",
    "\n",
    "def onde_estamos(): # encontrar o local certo onde o modelo sera baixado\n",
    "    if 'ipykernel' in sys.modules:\n",
    "        local = \"JupyterLab\"\n",
    "        h5_output = 'ML-genero.h5'\n",
    "    try:\n",
    "        import google.colab  # Se importar com sucesso, estamos no Colab\n",
    "        local = \"Google Colab\"\n",
    "        h5_output = '/content/ML-genero.h5'\n",
    "    except ImportError:\n",
    "        pass\n",
    "\n",
    "    return h5_output\n",
    "#csv de dados\n",
    "#https://drive.google.com/file/d/1Gczd8DCQU4bKCVjc-aDz5V3SdOL7QdE-/view?usp=drive_link\n",
    "csv_id = '1Gczd8DCQU4bKCVjc-aDz5V3SdOL7QdE-'\n",
    "url = f'https://drive.google.com/uc?id={csv_id}'\n",
    "#h5 do modelo\n",
    "#https://drive.google.com/file/d/1_KXXdjcDxVs7M3DN68NwVUxMaN99OaRq/view?usp=sharing\n",
    "h5_id = '1_KXXdjcDxVs7M3DN68NwVUxMaN99OaRq'\n",
    "h5_url = f'https://drive.google.com/uc?id={h5_id}'\n",
    "h5_output = onde_estamos()\n",
    "# Baixando os arquivos\n",
    "gdown.download(h5_url, h5_output, quiet=False)\n",
    "\n",
    "# Carregar o modelo salvo\n",
    "\n",
    "model = load_model(h5_output)\n",
    "data = pd.read_csv(url)\n",
    "# Função para prever o gênero de um novo nome\n",
    "def descobrir_genero(nome):\n",
    "    tokenizer = Tokenizer(char_level=True)\n",
    "    seq = tokenizer.texts_to_sequences([nome])\n",
    "    padded = pad_sequences(seq, maxlen=14)\n",
    "    prediction = model.predict(padded)\n",
    "    return 'feminino' if prediction < 0.5 else 'masculino'\n",
    "# Função para determinar o gênero com maior frequência\n",
    "def qual_genero(nome):\n",
    "    entrada = nome.upper()  # maiuscula\n",
    "    entrada = unidecode.unidecode(entrada)  # removendo acentos\n",
    "    # Atribuindo nomes parecidos a um DataFrame\n",
    "    similares = data[data['first_name'].str.contains(entrada, na=False)][['first_name', 'classification', 'ratio', 'frequency_total']]\n",
    "    # se o nome nao estiver na base:\n",
    "    # modelo sugere o gênero\n",
    "    if similares.empty:\n",
    "        genero = descobrir_genero(nome)\n",
    "        print(f'Para o nome {nome}, o modelo sugere que seja {genero}.')\n",
    "        return\n",
    "    # Calculando similaridade\n",
    "    def calculate_similarity(name):\n",
    "        return fuzz.ratio(name, entrada)\n",
    "\n",
    "    similares['similaridade'] = similares['first_name'].apply(calculate_similarity)\n",
    "\n",
    "    # Pegando os mais similares\n",
    "    busca = similares[similares['similaridade'] == similares['similaridade'].max()][['classification', 'frequency_total']]\n",
    "\n",
    "    # Classificando e agrupando para somar a maior frequência por gênero\n",
    "    agrupado = busca.groupby('classification')['frequency_total'].sum().reset_index()\n",
    "\n",
    "    # Determinando o gênero com maior frequência\n",
    "    genero_mais_frequente = agrupado.loc[agrupado['frequency_total'].idxmax(), 'classification']\n",
    "    if genero_mais_frequente == 'M':\n",
    "        genero_mais_frequente = 'Masculino'\n",
    "    elif genero_mais_frequente == 'F':\n",
    "        genero_mais_frequente = 'Feminino'\n",
    "\n",
    "    print(f'O gênero de {nome} é: {genero_mais_frequente} com base na sua frequência.')"
   ]
  },
  {
   "cell_type": "code",
   "execution_count": 6,
   "id": "NvEG_UxKlLMC",
   "metadata": {
    "colab": {
     "base_uri": "https://localhost:8080/"
    },
    "executionInfo": {
     "elapsed": 4256,
     "status": "ok",
     "timestamp": 1721575740934,
     "user": {
      "displayName": "Wesley Bispo de Brito",
      "userId": "15926818868551278124"
     },
     "user_tz": 180
    },
    "id": "NvEG_UxKlLMC",
    "outputId": "5e676f1a-8d5c-42f9-9b93-bf6d0ad2d0c9"
   },
   "outputs": [
    {
     "name": "stdin",
     "output_type": "stream",
     "text": [
      "Digite um nome:  Epfanio\n"
     ]
    },
    {
     "name": "stdout",
     "output_type": "stream",
     "text": [
      "\u001b[1m1/1\u001b[0m \u001b[32m━━━━━━━━━━━━━━━━━━━━\u001b[0m\u001b[37m\u001b[0m \u001b[1m0s\u001b[0m 28ms/step\n",
      "Para o nome Epfanio, o modelo sugere que seja masculino.\n"
     ]
    }
   ],
   "source": [
    "nome = input(\"Digite um nome: \")\n",
    "qual_genero(nome)"
   ]
  },
  {
   "cell_type": "code",
   "execution_count": null,
   "id": "2c4d9511-7a6c-4237-a621-1c784fa78cb3",
   "metadata": {},
   "outputs": [],
   "source": []
  }
 ],
 "metadata": {
  "colab": {
   "provenance": []
  },
  "kernelspec": {
   "display_name": "Python 3 (ipykernel)",
   "language": "python",
   "name": "python3"
  },
  "language_info": {
   "codemirror_mode": {
    "name": "ipython",
    "version": 3
   },
   "file_extension": ".py",
   "mimetype": "text/x-python",
   "name": "python",
   "nbconvert_exporter": "python",
   "pygments_lexer": "ipython3",
   "version": "3.12.3"
  },
  "widgets": {
   "application/vnd.jupyter.widget-state+json": {
    "state": {},
    "version_major": 2,
    "version_minor": 0
   }
  }
 },
 "nbformat": 4,
 "nbformat_minor": 5
}
