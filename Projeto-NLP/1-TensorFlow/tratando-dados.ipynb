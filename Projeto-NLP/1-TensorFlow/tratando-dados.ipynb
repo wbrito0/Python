{
 "cells": [
  {
   "cell_type": "code",
   "execution_count": 2,
   "id": "dccabaa6-56d1-4f17-a012-83fae09b9fd5",
   "metadata": {},
   "outputs": [],
   "source": [
    "import pandas as pd"
   ]
  },
  {
   "cell_type": "code",
   "execution_count": 10,
   "id": "7033d54c-c0b9-4e66-bc62-d18f3a57bd7a",
   "metadata": {},
   "outputs": [
    {
     "data": {
      "text/plain": [
       "(800, 1)"
      ]
     },
     "execution_count": 10,
     "metadata": {},
     "output_type": "execute_result"
    }
   ],
   "source": [
    "nomes_masc = pd.read_csv('dados/nomes-masculinos.csv')\n",
    "nomes_masc.shape"
   ]
  },
  {
   "cell_type": "code",
   "execution_count": 7,
   "id": "5b25b1cf-31a3-434c-a8bf-583fa795dd99",
   "metadata": {},
   "outputs": [
    {
     "data": {
      "text/html": [
       "<div>\n",
       "<style scoped>\n",
       "    .dataframe tbody tr th:only-of-type {\n",
       "        vertical-align: middle;\n",
       "    }\n",
       "\n",
       "    .dataframe tbody tr th {\n",
       "        vertical-align: top;\n",
       "    }\n",
       "\n",
       "    .dataframe thead th {\n",
       "        text-align: right;\n",
       "    }\n",
       "</style>\n",
       "<table border=\"1\" class=\"dataframe\">\n",
       "  <thead>\n",
       "    <tr style=\"text-align: right;\">\n",
       "      <th></th>\n",
       "      <th>nome</th>\n",
       "    </tr>\n",
       "  </thead>\n",
       "  <tbody>\n",
       "    <tr>\n",
       "      <th>0</th>\n",
       "      <td>Miguel</td>\n",
       "    </tr>\n",
       "    <tr>\n",
       "      <th>1</th>\n",
       "      <td>Arthur</td>\n",
       "    </tr>\n",
       "    <tr>\n",
       "      <th>2</th>\n",
       "      <td>Davi</td>\n",
       "    </tr>\n",
       "    <tr>\n",
       "      <th>3</th>\n",
       "      <td>Bernardo</td>\n",
       "    </tr>\n",
       "    <tr>\n",
       "      <th>4</th>\n",
       "      <td>Gabriel</td>\n",
       "    </tr>\n",
       "  </tbody>\n",
       "</table>\n",
       "</div>"
      ],
      "text/plain": [
       "       nome\n",
       "0    Miguel\n",
       "1    Arthur\n",
       "2      Davi\n",
       "3  Bernardo\n",
       "4   Gabriel"
      ]
     },
     "execution_count": 7,
     "metadata": {},
     "output_type": "execute_result"
    }
   ],
   "source": [
    "nomes_masc.head()"
   ]
  },
  {
   "cell_type": "code",
   "execution_count": 17,
   "id": "5fd979ca-1c73-4c00-aedc-37f4c9a0fae3",
   "metadata": {},
   "outputs": [],
   "source": [
    "nomemasc = nomes_masc.drop_duplicates()"
   ]
  },
  {
   "cell_type": "code",
   "execution_count": 20,
   "id": "fc3720b5-7077-442b-8eb8-5228c53f8514",
   "metadata": {},
   "outputs": [
    {
     "data": {
      "text/html": [
       "<div>\n",
       "<style scoped>\n",
       "    .dataframe tbody tr th:only-of-type {\n",
       "        vertical-align: middle;\n",
       "    }\n",
       "\n",
       "    .dataframe tbody tr th {\n",
       "        vertical-align: top;\n",
       "    }\n",
       "\n",
       "    .dataframe thead th {\n",
       "        text-align: right;\n",
       "    }\n",
       "</style>\n",
       "<table border=\"1\" class=\"dataframe\">\n",
       "  <thead>\n",
       "    <tr style=\"text-align: right;\">\n",
       "      <th></th>\n",
       "      <th>nome</th>\n",
       "    </tr>\n",
       "  </thead>\n",
       "  <tbody>\n",
       "    <tr>\n",
       "      <th>0</th>\n",
       "      <td>Miguel</td>\n",
       "    </tr>\n",
       "    <tr>\n",
       "      <th>1</th>\n",
       "      <td>Arthur</td>\n",
       "    </tr>\n",
       "    <tr>\n",
       "      <th>2</th>\n",
       "      <td>Davi</td>\n",
       "    </tr>\n",
       "    <tr>\n",
       "      <th>3</th>\n",
       "      <td>Bernardo</td>\n",
       "    </tr>\n",
       "    <tr>\n",
       "      <th>4</th>\n",
       "      <td>Gabriel</td>\n",
       "    </tr>\n",
       "  </tbody>\n",
       "</table>\n",
       "</div>"
      ],
      "text/plain": [
       "       nome\n",
       "0    Miguel\n",
       "1    Arthur\n",
       "2      Davi\n",
       "3  Bernardo\n",
       "4   Gabriel"
      ]
     },
     "execution_count": 20,
     "metadata": {},
     "output_type": "execute_result"
    }
   ],
   "source": [
    "nomemasc.head()"
   ]
  },
  {
   "cell_type": "code",
   "execution_count": 23,
   "id": "17ec8767-67bd-4ca3-87e1-8eb3809bd89f",
   "metadata": {},
   "outputs": [],
   "source": [
    "nomemasc= nomemasc.assign(genero = 'masculino')"
   ]
  },
  {
   "cell_type": "code",
   "execution_count": 24,
   "id": "c7aa38a3-5953-4ae4-ab8c-ea7088cded5c",
   "metadata": {},
   "outputs": [
    {
     "data": {
      "text/html": [
       "<div>\n",
       "<style scoped>\n",
       "    .dataframe tbody tr th:only-of-type {\n",
       "        vertical-align: middle;\n",
       "    }\n",
       "\n",
       "    .dataframe tbody tr th {\n",
       "        vertical-align: top;\n",
       "    }\n",
       "\n",
       "    .dataframe thead th {\n",
       "        text-align: right;\n",
       "    }\n",
       "</style>\n",
       "<table border=\"1\" class=\"dataframe\">\n",
       "  <thead>\n",
       "    <tr style=\"text-align: right;\">\n",
       "      <th></th>\n",
       "      <th>nome</th>\n",
       "      <th>genero</th>\n",
       "    </tr>\n",
       "  </thead>\n",
       "  <tbody>\n",
       "    <tr>\n",
       "      <th>0</th>\n",
       "      <td>Miguel</td>\n",
       "      <td>masculino</td>\n",
       "    </tr>\n",
       "    <tr>\n",
       "      <th>1</th>\n",
       "      <td>Arthur</td>\n",
       "      <td>masculino</td>\n",
       "    </tr>\n",
       "    <tr>\n",
       "      <th>2</th>\n",
       "      <td>Davi</td>\n",
       "      <td>masculino</td>\n",
       "    </tr>\n",
       "    <tr>\n",
       "      <th>3</th>\n",
       "      <td>Bernardo</td>\n",
       "      <td>masculino</td>\n",
       "    </tr>\n",
       "    <tr>\n",
       "      <th>4</th>\n",
       "      <td>Gabriel</td>\n",
       "      <td>masculino</td>\n",
       "    </tr>\n",
       "  </tbody>\n",
       "</table>\n",
       "</div>"
      ],
      "text/plain": [
       "       nome     genero\n",
       "0    Miguel  masculino\n",
       "1    Arthur  masculino\n",
       "2      Davi  masculino\n",
       "3  Bernardo  masculino\n",
       "4   Gabriel  masculino"
      ]
     },
     "execution_count": 24,
     "metadata": {},
     "output_type": "execute_result"
    }
   ],
   "source": [
    "nomemasc.head()"
   ]
  },
  {
   "cell_type": "code",
   "execution_count": 25,
   "id": "a2437c62-cdd0-4275-a68b-9c24ef8dc5d5",
   "metadata": {},
   "outputs": [
    {
     "data": {
      "text/html": [
       "<div>\n",
       "<style scoped>\n",
       "    .dataframe tbody tr th:only-of-type {\n",
       "        vertical-align: middle;\n",
       "    }\n",
       "\n",
       "    .dataframe tbody tr th {\n",
       "        vertical-align: top;\n",
       "    }\n",
       "\n",
       "    .dataframe thead th {\n",
       "        text-align: right;\n",
       "    }\n",
       "</style>\n",
       "<table border=\"1\" class=\"dataframe\">\n",
       "  <thead>\n",
       "    <tr style=\"text-align: right;\">\n",
       "      <th></th>\n",
       "      <th>nome</th>\n",
       "    </tr>\n",
       "  </thead>\n",
       "  <tbody>\n",
       "    <tr>\n",
       "      <th>0</th>\n",
       "      <td>Sophia</td>\n",
       "    </tr>\n",
       "    <tr>\n",
       "      <th>1</th>\n",
       "      <td>Júlia</td>\n",
       "    </tr>\n",
       "    <tr>\n",
       "      <th>2</th>\n",
       "      <td>Laura</td>\n",
       "    </tr>\n",
       "    <tr>\n",
       "      <th>3</th>\n",
       "      <td>Isabella</td>\n",
       "    </tr>\n",
       "    <tr>\n",
       "      <th>4</th>\n",
       "      <td>Luiza</td>\n",
       "    </tr>\n",
       "  </tbody>\n",
       "</table>\n",
       "</div>"
      ],
      "text/plain": [
       "       nome\n",
       "0    Sophia\n",
       "1     Júlia\n",
       "2     Laura\n",
       "3  Isabella\n",
       "4     Luiza"
      ]
     },
     "execution_count": 25,
     "metadata": {},
     "output_type": "execute_result"
    }
   ],
   "source": [
    "nomefem = pd.read_csv('dados/nomes-femininos.csv')\n",
    "nomefem.head()"
   ]
  },
  {
   "cell_type": "code",
   "execution_count": 26,
   "id": "370a042b-d8d3-4a0f-824a-037f42b8634a",
   "metadata": {},
   "outputs": [
    {
     "data": {
      "text/plain": [
       "(800, 1)"
      ]
     },
     "execution_count": 26,
     "metadata": {},
     "output_type": "execute_result"
    }
   ],
   "source": [
    "nomefem.shape"
   ]
  },
  {
   "cell_type": "code",
   "execution_count": 27,
   "id": "b82fb924-7bc1-452f-9aa1-ce9122107fb2",
   "metadata": {},
   "outputs": [],
   "source": [
    "nomefem = nomefem.drop_duplicates()"
   ]
  },
  {
   "cell_type": "code",
   "execution_count": 28,
   "id": "1af8fb93-f109-414c-83c0-5d2575bc6fa5",
   "metadata": {},
   "outputs": [
    {
     "data": {
      "text/plain": [
       "(119, 1)"
      ]
     },
     "execution_count": 28,
     "metadata": {},
     "output_type": "execute_result"
    }
   ],
   "source": [
    "nomefem.shape"
   ]
  },
  {
   "cell_type": "code",
   "execution_count": 30,
   "id": "a09da3fb-f611-4dce-b0db-b9d81f56a749",
   "metadata": {},
   "outputs": [],
   "source": [
    "nomefem = nomefem.assign(genero= 'feminino')"
   ]
  },
  {
   "cell_type": "code",
   "execution_count": 31,
   "id": "8b5b31f1-456f-4c65-870a-f4d3e64bdd58",
   "metadata": {},
   "outputs": [
    {
     "data": {
      "text/html": [
       "<div>\n",
       "<style scoped>\n",
       "    .dataframe tbody tr th:only-of-type {\n",
       "        vertical-align: middle;\n",
       "    }\n",
       "\n",
       "    .dataframe tbody tr th {\n",
       "        vertical-align: top;\n",
       "    }\n",
       "\n",
       "    .dataframe thead th {\n",
       "        text-align: right;\n",
       "    }\n",
       "</style>\n",
       "<table border=\"1\" class=\"dataframe\">\n",
       "  <thead>\n",
       "    <tr style=\"text-align: right;\">\n",
       "      <th></th>\n",
       "      <th>nome</th>\n",
       "      <th>genero</th>\n",
       "    </tr>\n",
       "  </thead>\n",
       "  <tbody>\n",
       "    <tr>\n",
       "      <th>0</th>\n",
       "      <td>Sophia</td>\n",
       "      <td>feminino</td>\n",
       "    </tr>\n",
       "    <tr>\n",
       "      <th>1</th>\n",
       "      <td>Júlia</td>\n",
       "      <td>feminino</td>\n",
       "    </tr>\n",
       "    <tr>\n",
       "      <th>2</th>\n",
       "      <td>Laura</td>\n",
       "      <td>feminino</td>\n",
       "    </tr>\n",
       "    <tr>\n",
       "      <th>3</th>\n",
       "      <td>Isabella</td>\n",
       "      <td>feminino</td>\n",
       "    </tr>\n",
       "    <tr>\n",
       "      <th>4</th>\n",
       "      <td>Luiza</td>\n",
       "      <td>feminino</td>\n",
       "    </tr>\n",
       "  </tbody>\n",
       "</table>\n",
       "</div>"
      ],
      "text/plain": [
       "       nome    genero\n",
       "0    Sophia  feminino\n",
       "1     Júlia  feminino\n",
       "2     Laura  feminino\n",
       "3  Isabella  feminino\n",
       "4     Luiza  feminino"
      ]
     },
     "execution_count": 31,
     "metadata": {},
     "output_type": "execute_result"
    }
   ],
   "source": [
    "nomefem.head()"
   ]
  },
  {
   "cell_type": "code",
   "execution_count": 35,
   "id": "8b4b3a74-34a0-4234-b6d1-2d8e714c0741",
   "metadata": {},
   "outputs": [],
   "source": [
    "nome = pd.concat([nomefem,nomemasc],ignore_index=True)"
   ]
  },
  {
   "cell_type": "code",
   "execution_count": 46,
   "id": "392f07ed-555a-4afa-8c47-047b870fa0eb",
   "metadata": {},
   "outputs": [
    {
     "data": {
      "text/plain": [
       "<bound method NDFrame.head of           nome     genero\n",
       "0       Sophia   feminino\n",
       "1        Júlia   feminino\n",
       "2        Laura   feminino\n",
       "3     Isabella   feminino\n",
       "4        Luiza   feminino\n",
       "..         ...        ...\n",
       "238   Maurício  masculino\n",
       "239    Caetano  masculino\n",
       "240   Anderson  masculino\n",
       "241  Alexander  masculino\n",
       "242      Jonas  masculino\n",
       "\n",
       "[243 rows x 2 columns]>"
      ]
     },
     "execution_count": 46,
     "metadata": {},
     "output_type": "execute_result"
    }
   ],
   "source": [
    "nome.head"
   ]
  },
  {
   "cell_type": "code",
   "execution_count": 48,
   "id": "4aaffd63-fd8b-465f-9d5a-5e03aeb3b895",
   "metadata": {},
   "outputs": [
    {
     "name": "stdout",
     "output_type": "stream",
     "text": [
      "\n",
      "Verificação de nulos na coluna 'nome':\n",
      "0\n"
     ]
    }
   ],
   "source": [
    "# Verificando nulos na coluna 'nome'\n",
    "print(\"\\nVerificação de nulos na coluna 'nome':\")\n",
    "print(nome['nome'].isnull().sum())"
   ]
  },
  {
   "cell_type": "code",
   "execution_count": 47,
   "id": "a57c2d5d-fd8a-47ba-be81-65ea7dc5ca79",
   "metadata": {},
   "outputs": [
    {
     "name": "stdout",
     "output_type": "stream",
     "text": [
      "\n",
      "Verificação de nulos na coluna 'genero':\n",
      "0\n"
     ]
    }
   ],
   "source": [
    "# Verificando nulos na coluna 'genero'\n",
    "print(\"\\nVerificação de nulos na coluna 'genero':\")\n",
    "print(nome['genero'].isnull().sum())\n"
   ]
  },
  {
   "cell_type": "code",
   "execution_count": 45,
   "id": "668a5911-fbb6-4ec6-a2cf-fe8706b6f300",
   "metadata": {},
   "outputs": [],
   "source": [
    "nome.to_csv('dados/nomes.csv', index=False)"
   ]
  }
 ],
 "metadata": {
  "kernelspec": {
   "display_name": "Python 3 (ipykernel)",
   "language": "python",
   "name": "python3"
  },
  "language_info": {
   "codemirror_mode": {
    "name": "ipython",
    "version": 3
   },
   "file_extension": ".py",
   "mimetype": "text/x-python",
   "name": "python",
   "nbconvert_exporter": "python",
   "pygments_lexer": "ipython3",
   "version": "3.11.7"
  }
 },
 "nbformat": 4,
 "nbformat_minor": 5
}
